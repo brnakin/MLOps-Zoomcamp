{
 "cells": [
  {
   "cell_type": "code",
   "execution_count": 21,
   "metadata": {},
   "outputs": [
    {
     "name": "stdout",
     "output_type": "stream",
     "text": [
      "Python 3.11.9\n"
     ]
    }
   ],
   "source": [
    "!python -V"
   ]
  },
  {
   "cell_type": "code",
   "execution_count": 22,
   "metadata": {},
   "outputs": [],
   "source": [
    "import pandas as pd"
   ]
  },
  {
   "cell_type": "code",
   "execution_count": 23,
   "metadata": {},
   "outputs": [],
   "source": [
    "import pickle"
   ]
  },
  {
   "cell_type": "code",
   "execution_count": 24,
   "metadata": {},
   "outputs": [],
   "source": [
    "import seaborn as sns\n",
    "import matplotlib.pyplot as plt"
   ]
  },
  {
   "cell_type": "code",
   "execution_count": 25,
   "metadata": {},
   "outputs": [],
   "source": [
    "from sklearn.feature_extraction import DictVectorizer\n",
    "from sklearn.linear_model import LinearRegression\n",
    "from sklearn.linear_model import Lasso\n",
    "from sklearn.linear_model import Ridge\n",
    "\n",
    "from sklearn.metrics import mean_squared_error"
   ]
  },
  {
   "cell_type": "code",
   "execution_count": 26,
   "metadata": {},
   "outputs": [
    {
     "data": {
      "text/plain": [
       "<Experiment: artifact_location='/home/baran/project-courses/mlops-bootcamp/Week2/mlruns/1', creation_time=1718897934683, experiment_id='1', last_update_time=1718897934683, lifecycle_stage='active', name='nyc-taxi-experiment', tags={}>"
      ]
     },
     "execution_count": 26,
     "metadata": {},
     "output_type": "execute_result"
    }
   ],
   "source": [
    "import mlflow\n",
    "\n",
    "\n",
    "mlflow.set_tracking_uri(\"sqlite:///mlflow.db\")\n",
    "mlflow.set_experiment(\"nyc-taxi-experiment\")"
   ]
  },
  {
   "cell_type": "code",
   "execution_count": 27,
   "metadata": {},
   "outputs": [],
   "source": [
    "def read_dataframe(filename):\n",
    "    df = pd.read_parquet(filename)\n",
    "\n",
    "    df.lpep_dropoff_datetime = pd.to_datetime(df.lpep_dropoff_datetime)\n",
    "    df.lpep_pickup_datetime = pd.to_datetime(df.lpep_pickup_datetime)\n",
    "\n",
    "    df[\"duration\"] = df.lpep_dropoff_datetime - df.lpep_pickup_datetime\n",
    "    df.duration = df.duration.apply(lambda td: td.total_seconds() / 60)\n",
    "\n",
    "    df = df[(df.duration >= 1) & (df.duration <= 60)]\n",
    "\n",
    "    categorical = [\"PULocationID\", \"DOLocationID\"]\n",
    "    df[categorical] = df[categorical].astype(str)\n",
    "\n",
    "    return df"
   ]
  },
  {
   "cell_type": "code",
   "execution_count": 28,
   "metadata": {},
   "outputs": [],
   "source": [
    "df_train = read_dataframe(\"data/green_tripdata_2021-01.parquet\")\n",
    "df_val = read_dataframe(\"data/green_tripdata_2021-02.parquet\")"
   ]
  },
  {
   "cell_type": "code",
   "execution_count": 29,
   "metadata": {},
   "outputs": [
    {
     "data": {
      "text/plain": [
       "(73908, 61921)"
      ]
     },
     "execution_count": 29,
     "metadata": {},
     "output_type": "execute_result"
    }
   ],
   "source": [
    "len(df_train), len(df_val)"
   ]
  },
  {
   "cell_type": "code",
   "execution_count": 30,
   "metadata": {},
   "outputs": [],
   "source": [
    "df_train[\"PU_DO\"] = df_train[\"PULocationID\"] + \"_\" + df_train[\"DOLocationID\"]\n",
    "df_val[\"PU_DO\"] = df_val[\"PULocationID\"] + \"_\" + df_val[\"DOLocationID\"]"
   ]
  },
  {
   "cell_type": "code",
   "execution_count": 31,
   "metadata": {},
   "outputs": [],
   "source": [
    "categorical = [\"PU_DO\"]  #'PULocationID', 'DOLocationID']\n",
    "numerical = [\"trip_distance\"]\n",
    "\n",
    "dv = DictVectorizer()\n",
    "\n",
    "train_dicts = df_train[categorical + numerical].to_dict(orient=\"records\")\n",
    "X_train = dv.fit_transform(train_dicts)\n",
    "\n",
    "val_dicts = df_val[categorical + numerical].to_dict(orient=\"records\")\n",
    "X_val = dv.transform(val_dicts)"
   ]
  },
  {
   "cell_type": "code",
   "execution_count": 32,
   "metadata": {},
   "outputs": [],
   "source": [
    "target = \"duration\"\n",
    "y_train = df_train[target].values\n",
    "y_val = df_val[target].values"
   ]
  },
  {
   "cell_type": "code",
   "execution_count": 33,
   "metadata": {},
   "outputs": [
    {
     "name": "stderr",
     "output_type": "stream",
     "text": [
      "/home/baran/anaconda3/envs/exp-tracking-env/lib/python3.11/site-packages/sklearn/metrics/_regression.py:483: FutureWarning: 'squared' is deprecated in version 1.4 and will be removed in 1.6. To calculate the root mean squared error, use the function'root_mean_squared_error'.\n",
      "  warnings.warn(\n"
     ]
    },
    {
     "data": {
      "text/plain": [
       "7.75871521021275"
      ]
     },
     "execution_count": 33,
     "metadata": {},
     "output_type": "execute_result"
    }
   ],
   "source": [
    "lr = LinearRegression()\n",
    "lr.fit(X_train, y_train)\n",
    "\n",
    "y_pred = lr.predict(X_val)\n",
    "\n",
    "mean_squared_error(y_val, y_pred, squared=False)"
   ]
  },
  {
   "cell_type": "code",
   "execution_count": 34,
   "metadata": {},
   "outputs": [],
   "source": [
    "with open(\"models/lin_reg.bin\", \"wb\") as f_out:\n",
    "    pickle.dump((dv, lr), f_out)"
   ]
  },
  {
   "cell_type": "code",
   "execution_count": 35,
   "metadata": {},
   "outputs": [
    {
     "name": "stderr",
     "output_type": "stream",
     "text": [
      "/home/baran/anaconda3/envs/exp-tracking-env/lib/python3.11/site-packages/sklearn/metrics/_regression.py:483: FutureWarning: 'squared' is deprecated in version 1.4 and will be removed in 1.6. To calculate the root mean squared error, use the function'root_mean_squared_error'.\n",
      "  warnings.warn(\n"
     ]
    }
   ],
   "source": [
    "with mlflow.start_run():\n",
    "\n",
    "    mlflow.set_tag(\"developer\", \"baran_dev\")\n",
    "\n",
    "    mlflow.log_param(\"train-data-path\", \"./data/green_tripdata_2021-01.csv\")\n",
    "    mlflow.log_param(\"valid-data-path\", \"./data/green_tripdata_2021-02.csv\")\n",
    "\n",
    "    alpha = 0.01\n",
    "    mlflow.log_param(\"alpha\", alpha)\n",
    "    lr = Lasso(alpha)\n",
    "    lr.fit(X_train, y_train)\n",
    "\n",
    "    y_pred = lr.predict(X_val)\n",
    "    rmse = mean_squared_error(y_val, y_pred, squared=False)\n",
    "    mlflow.log_metric(\"rmse\", rmse)\n",
    "\n",
    "    mlflow.log_artifact(local_path=\"models/lin_reg.bin\", artifact_path=\"models_pickle\")"
   ]
  },
  {
   "cell_type": "code",
   "execution_count": 36,
   "metadata": {},
   "outputs": [],
   "source": [
    "import xgboost as xgb"
   ]
  },
  {
   "cell_type": "code",
   "execution_count": 37,
   "metadata": {},
   "outputs": [],
   "source": [
    "from hyperopt import fmin, tpe, hp, STATUS_OK, Trials\n",
    "from hyperopt.pyll import scope"
   ]
  },
  {
   "cell_type": "code",
   "execution_count": 38,
   "metadata": {},
   "outputs": [],
   "source": [
    "train = xgb.DMatrix(X_train, label=y_train)\n",
    "valid = xgb.DMatrix(X_val, label=y_val)"
   ]
  },
  {
   "cell_type": "code",
   "execution_count": 39,
   "metadata": {},
   "outputs": [],
   "source": [
    "def objective(params):\n",
    "    with mlflow.start_run():\n",
    "        mlflow.set_tag(\"model\", \"xgboost\")\n",
    "        mlflow.log_params(params)\n",
    "        booster = xgb.train(\n",
    "            params=params,\n",
    "            dtrain=train,\n",
    "            num_boost_round=20,\n",
    "            evals=[(valid, \"validation\")],\n",
    "            early_stopping_rounds=2,\n",
    "        )\n",
    "        y_pred = booster.predict(valid)\n",
    "        rmse = mean_squared_error(y_val, y_pred, squared=False)\n",
    "        mlflow.log_metric(\"rmse\", rmse)\n",
    "\n",
    "    return {\"loss\": rmse, \"status\": STATUS_OK}"
   ]
  },
  {
   "cell_type": "code",
   "execution_count": 40,
   "metadata": {},
   "outputs": [
    {
     "name": "stdout",
     "output_type": "stream",
     "text": [
      "  0%|          | 0/50 [00:00<?, ?trial/s, best loss=?]"
     ]
    },
    {
     "name": "stderr",
     "output_type": "stream",
     "text": [
      "/home/baran/anaconda3/envs/exp-tracking-env/lib/python3.11/site-packages/xgboost/core.py:160: UserWarning: [18:41:29] WARNING: /croot/xgboost-split_1713972711803/work/cpp_src/src/objective/regression_obj.cu:209: reg:linear is now deprecated in favor of reg:squarederror.\n",
      "  warnings.warn(smsg, UserWarning)\n",
      "\n"
     ]
    },
    {
     "name": "stdout",
     "output_type": "stream",
     "text": [
      "[0]\tvalidation-rmse:10.41978                          \n",
      "[1]\tvalidation-rmse:9.17336                           \n",
      "[2]\tvalidation-rmse:8.32491                           \n",
      "[3]\tvalidation-rmse:7.76090                           \n",
      "[4]\tvalidation-rmse:7.38923                           \n",
      "[5]\tvalidation-rmse:7.14283                           \n",
      "[6]\tvalidation-rmse:6.98287                           \n",
      "[7]\tvalidation-rmse:6.87263                           \n",
      "[8]\tvalidation-rmse:6.79917                           \n",
      "[9]\tvalidation-rmse:6.74519                           \n",
      "[10]\tvalidation-rmse:6.71056                          \n",
      "[11]\tvalidation-rmse:6.68598                          \n",
      "[12]\tvalidation-rmse:6.66643                          \n",
      "[13]\tvalidation-rmse:6.65091                          \n",
      "[14]\tvalidation-rmse:6.63902                          \n",
      "[15]\tvalidation-rmse:6.63110                          \n",
      "[16]\tvalidation-rmse:6.62469                          \n",
      "[17]\tvalidation-rmse:6.61943                          \n",
      "[18]\tvalidation-rmse:6.61512                          \n",
      "[19]\tvalidation-rmse:6.61066                          \n",
      "[0]\tvalidation-rmse:8.71734                                                    \n",
      "[1]\tvalidation-rmse:7.46035                                                    \n",
      "[2]\tvalidation-rmse:7.03927                                                    \n",
      "[3]\tvalidation-rmse:6.88812                                                    \n",
      "  2%|▏         | 1/50 [00:05<04:44,  5.81s/trial, best loss: 6.610655440336906]"
     ]
    },
    {
     "name": "stderr",
     "output_type": "stream",
     "text": [
      "/home/baran/anaconda3/envs/exp-tracking-env/lib/python3.11/site-packages/sklearn/metrics/_regression.py:483: FutureWarning: 'squared' is deprecated in version 1.4 and will be removed in 1.6. To calculate the root mean squared error, use the function'root_mean_squared_error'.\n",
      "  warnings.warn(\n",
      "\n",
      "/home/baran/anaconda3/envs/exp-tracking-env/lib/python3.11/site-packages/xgboost/core.py:160: UserWarning: [18:41:35] WARNING: /croot/xgboost-split_1713972711803/work/cpp_src/src/objective/regression_obj.cu:209: reg:linear is now deprecated in favor of reg:squarederror.\n",
      "  warnings.warn(smsg, UserWarning)\n",
      "\n"
     ]
    },
    {
     "name": "stdout",
     "output_type": "stream",
     "text": [
      "[4]\tvalidation-rmse:6.82963                                                    \n",
      "[5]\tvalidation-rmse:6.80444                                                    \n",
      "[6]\tvalidation-rmse:6.79069                                                    \n",
      "[7]\tvalidation-rmse:6.78180                                                    \n",
      "[8]\tvalidation-rmse:6.77518                                                    \n",
      "[9]\tvalidation-rmse:6.76926                                                    \n",
      "[10]\tvalidation-rmse:6.76807                                                   \n",
      "[11]\tvalidation-rmse:6.76676                                                   \n",
      "[12]\tvalidation-rmse:6.76119                                                   \n",
      "[13]\tvalidation-rmse:6.75925                                                   \n",
      "[14]\tvalidation-rmse:6.75627                                                   \n",
      "[15]\tvalidation-rmse:6.75246                                                   \n",
      "[16]\tvalidation-rmse:6.74791                                                   \n",
      "[17]\tvalidation-rmse:6.74609                                                   \n",
      "[18]\tvalidation-rmse:6.74428                                                   \n",
      "[19]\tvalidation-rmse:6.74253                                                   \n",
      "  4%|▍         | 2/50 [00:06<02:23,  2.99s/trial, best loss: 6.610655440336906]"
     ]
    },
    {
     "name": "stderr",
     "output_type": "stream",
     "text": [
      "/home/baran/anaconda3/envs/exp-tracking-env/lib/python3.11/site-packages/sklearn/metrics/_regression.py:483: FutureWarning: 'squared' is deprecated in version 1.4 and will be removed in 1.6. To calculate the root mean squared error, use the function'root_mean_squared_error'.\n",
      "  warnings.warn(\n",
      "\n",
      "/home/baran/anaconda3/envs/exp-tracking-env/lib/python3.11/site-packages/xgboost/core.py:160: UserWarning: [18:41:36] WARNING: /croot/xgboost-split_1713972711803/work/cpp_src/src/objective/regression_obj.cu:209: reg:linear is now deprecated in favor of reg:squarederror.\n",
      "  warnings.warn(smsg, UserWarning)\n",
      "\n"
     ]
    },
    {
     "name": "stdout",
     "output_type": "stream",
     "text": [
      "[0]\tvalidation-rmse:8.28106                                                    \n",
      "[1]\tvalidation-rmse:7.10346                                                    \n",
      "[2]\tvalidation-rmse:6.77508                                                    \n",
      "[3]\tvalidation-rmse:6.65541                                                    \n",
      "[4]\tvalidation-rmse:6.60802                                                    \n",
      "[5]\tvalidation-rmse:6.58115                                                    \n",
      "[6]\tvalidation-rmse:6.56753                                                    \n",
      "[7]\tvalidation-rmse:6.55895                                                    \n",
      "[8]\tvalidation-rmse:6.55434                                                    \n",
      "[9]\tvalidation-rmse:6.54842                                                    \n",
      "[10]\tvalidation-rmse:6.54204                                                   \n",
      "[11]\tvalidation-rmse:6.53855                                                   \n",
      "[12]\tvalidation-rmse:6.53425                                                   \n",
      "[13]\tvalidation-rmse:6.53080                                                   \n",
      "[14]\tvalidation-rmse:6.52874                                                   \n",
      "[15]\tvalidation-rmse:6.52516                                                   \n",
      "[16]\tvalidation-rmse:6.52298                                                   \n",
      "[17]\tvalidation-rmse:6.52083                                                   \n",
      "[18]\tvalidation-rmse:6.51954                                                   \n",
      "[19]\tvalidation-rmse:6.51574                                                   \n",
      "[0]\tvalidation-rmse:7.61450                                                    \n",
      "  6%|▌         | 3/50 [00:11<02:57,  3.78s/trial, best loss: 6.515739565311593]"
     ]
    },
    {
     "name": "stderr",
     "output_type": "stream",
     "text": [
      "/home/baran/anaconda3/envs/exp-tracking-env/lib/python3.11/site-packages/sklearn/metrics/_regression.py:483: FutureWarning: 'squared' is deprecated in version 1.4 and will be removed in 1.6. To calculate the root mean squared error, use the function'root_mean_squared_error'.\n",
      "  warnings.warn(\n",
      "\n",
      "/home/baran/anaconda3/envs/exp-tracking-env/lib/python3.11/site-packages/xgboost/core.py:160: UserWarning: [18:41:40] WARNING: /croot/xgboost-split_1713972711803/work/cpp_src/src/objective/regression_obj.cu:209: reg:linear is now deprecated in favor of reg:squarederror.\n",
      "  warnings.warn(smsg, UserWarning)\n",
      "\n"
     ]
    },
    {
     "name": "stdout",
     "output_type": "stream",
     "text": [
      "[1]\tvalidation-rmse:6.86837                                                    \n",
      "[2]\tvalidation-rmse:6.73129                                                    \n",
      "[3]\tvalidation-rmse:6.69287                                                    \n",
      "[4]\tvalidation-rmse:6.67849                                                    \n",
      "[5]\tvalidation-rmse:6.67127                                                    \n",
      "[6]\tvalidation-rmse:6.66687                                                    \n",
      "[7]\tvalidation-rmse:6.66427                                                    \n",
      "[8]\tvalidation-rmse:6.65934                                                    \n",
      "[9]\tvalidation-rmse:6.65263                                                    \n",
      "[10]\tvalidation-rmse:6.64622                                                   \n",
      "[11]\tvalidation-rmse:6.64236                                                   \n",
      "[12]\tvalidation-rmse:6.63665                                                   \n",
      "[13]\tvalidation-rmse:6.63231                                                   \n",
      "[14]\tvalidation-rmse:6.62867                                                   \n",
      "[15]\tvalidation-rmse:6.62355                                                   \n",
      "[16]\tvalidation-rmse:6.61713                                                   \n",
      "[17]\tvalidation-rmse:6.61324                                                   \n",
      "[18]\tvalidation-rmse:6.60734                                                   \n",
      "[19]\tvalidation-rmse:6.60526                                                   \n",
      "[0]\tvalidation-rmse:10.38194                                                   \n",
      "  8%|▊         | 4/50 [00:12<02:07,  2.78s/trial, best loss: 6.515739565311593]"
     ]
    },
    {
     "name": "stderr",
     "output_type": "stream",
     "text": [
      "/home/baran/anaconda3/envs/exp-tracking-env/lib/python3.11/site-packages/sklearn/metrics/_regression.py:483: FutureWarning: 'squared' is deprecated in version 1.4 and will be removed in 1.6. To calculate the root mean squared error, use the function'root_mean_squared_error'.\n",
      "  warnings.warn(\n",
      "\n",
      "/home/baran/anaconda3/envs/exp-tracking-env/lib/python3.11/site-packages/xgboost/core.py:160: UserWarning: [18:41:42] WARNING: /croot/xgboost-split_1713972711803/work/cpp_src/src/objective/regression_obj.cu:209: reg:linear is now deprecated in favor of reg:squarederror.\n",
      "  warnings.warn(smsg, UserWarning)\n",
      "\n"
     ]
    },
    {
     "name": "stdout",
     "output_type": "stream",
     "text": [
      "[1]\tvalidation-rmse:9.12510                                                    \n",
      "[2]\tvalidation-rmse:8.28616                                                    \n",
      "[3]\tvalidation-rmse:7.73428                                                    \n",
      "[4]\tvalidation-rmse:7.37240                                                    \n",
      "[5]\tvalidation-rmse:7.14309                                                    \n",
      "[6]\tvalidation-rmse:6.99212                                                    \n",
      "[7]\tvalidation-rmse:6.89520                                                    \n",
      "[8]\tvalidation-rmse:6.82904                                                    \n",
      "[9]\tvalidation-rmse:6.78459                                                    \n",
      "[10]\tvalidation-rmse:6.75619                                                   \n",
      "[11]\tvalidation-rmse:6.73367                                                   \n",
      "[12]\tvalidation-rmse:6.71746                                                   \n",
      "[13]\tvalidation-rmse:6.70566                                                   \n",
      "[14]\tvalidation-rmse:6.69723                                                   \n",
      "[15]\tvalidation-rmse:6.68979                                                   \n",
      "[16]\tvalidation-rmse:6.68417                                                   \n",
      "[17]\tvalidation-rmse:6.68068                                                   \n",
      "[18]\tvalidation-rmse:6.67668                                                   \n",
      "[19]\tvalidation-rmse:6.67499                                                   \n",
      " 10%|█         | 5/50 [00:14<01:52,  2.49s/trial, best loss: 6.515739565311593]"
     ]
    },
    {
     "name": "stderr",
     "output_type": "stream",
     "text": [
      "/home/baran/anaconda3/envs/exp-tracking-env/lib/python3.11/site-packages/sklearn/metrics/_regression.py:483: FutureWarning: 'squared' is deprecated in version 1.4 and will be removed in 1.6. To calculate the root mean squared error, use the function'root_mean_squared_error'.\n",
      "  warnings.warn(\n",
      "\n",
      "/home/baran/anaconda3/envs/exp-tracking-env/lib/python3.11/site-packages/xgboost/core.py:160: UserWarning: [18:41:44] WARNING: /croot/xgboost-split_1713972711803/work/cpp_src/src/objective/regression_obj.cu:209: reg:linear is now deprecated in favor of reg:squarederror.\n",
      "  warnings.warn(smsg, UserWarning)\n",
      "\n"
     ]
    },
    {
     "name": "stdout",
     "output_type": "stream",
     "text": [
      "[0]\tvalidation-rmse:10.67155                                                   \n",
      "[1]\tvalidation-rmse:9.51890                                                    \n",
      "[2]\tvalidation-rmse:8.67176                                                    \n",
      "[3]\tvalidation-rmse:8.05828                                                    \n",
      "[4]\tvalidation-rmse:7.62131                                                    \n",
      "[5]\tvalidation-rmse:7.30948                                                    \n",
      "[6]\tvalidation-rmse:7.08902                                                    \n",
      "[7]\tvalidation-rmse:6.93195                                                    \n",
      "[8]\tvalidation-rmse:6.82085                                                    \n",
      "[9]\tvalidation-rmse:6.74122                                                    \n",
      "[10]\tvalidation-rmse:6.68281                                                   \n",
      "[11]\tvalidation-rmse:6.63693                                                   \n",
      "[12]\tvalidation-rmse:6.60512                                                   \n",
      "[13]\tvalidation-rmse:6.57958                                                   \n",
      "[14]\tvalidation-rmse:6.56131                                                   \n",
      "[15]\tvalidation-rmse:6.54593                                                   \n",
      "[16]\tvalidation-rmse:6.53381                                                   \n",
      "[17]\tvalidation-rmse:6.52408                                                   \n",
      "[18]\tvalidation-rmse:6.51617                                                   \n",
      "[19]\tvalidation-rmse:6.50816                                                   \n",
      " 12%|█▏        | 6/50 [00:20<02:44,  3.75s/trial, best loss: 6.5081565703541795]"
     ]
    },
    {
     "name": "stderr",
     "output_type": "stream",
     "text": [
      "/home/baran/anaconda3/envs/exp-tracking-env/lib/python3.11/site-packages/sklearn/metrics/_regression.py:483: FutureWarning: 'squared' is deprecated in version 1.4 and will be removed in 1.6. To calculate the root mean squared error, use the function'root_mean_squared_error'.\n",
      "  warnings.warn(\n",
      "\n",
      "/home/baran/anaconda3/envs/exp-tracking-env/lib/python3.11/site-packages/xgboost/core.py:160: UserWarning: [18:41:50] WARNING: /croot/xgboost-split_1713972711803/work/cpp_src/src/objective/regression_obj.cu:209: reg:linear is now deprecated in favor of reg:squarederror.\n",
      "  warnings.warn(smsg, UserWarning)\n",
      "\n"
     ]
    },
    {
     "name": "stdout",
     "output_type": "stream",
     "text": [
      "[0]\tvalidation-rmse:9.16900                                                     \n",
      "[1]\tvalidation-rmse:7.76823                                                     \n",
      "[2]\tvalidation-rmse:7.16525                                                     \n",
      "[3]\tvalidation-rmse:6.90376                                                     \n",
      "[4]\tvalidation-rmse:6.78753                                                     \n",
      "[5]\tvalidation-rmse:6.73232                                                     \n",
      "[6]\tvalidation-rmse:6.69965                                                     \n",
      "[7]\tvalidation-rmse:6.68405                                                     \n",
      "[8]\tvalidation-rmse:6.67579                                                     \n",
      "[9]\tvalidation-rmse:6.66842                                                     \n",
      "[10]\tvalidation-rmse:6.66420                                                    \n",
      "[11]\tvalidation-rmse:6.65913                                                    \n",
      "[12]\tvalidation-rmse:6.65141                                                    \n",
      "[13]\tvalidation-rmse:6.64862                                                    \n",
      "[14]\tvalidation-rmse:6.64595                                                    \n",
      "[15]\tvalidation-rmse:6.64567                                                    \n",
      "[16]\tvalidation-rmse:6.64037                                                    \n",
      "[17]\tvalidation-rmse:6.63864                                                    \n",
      "[18]\tvalidation-rmse:6.63677                                                    \n",
      "[19]\tvalidation-rmse:6.63488                                                    \n",
      "[0]\tvalidation-rmse:6.88051                                                     \n",
      "[1]\tvalidation-rmse:6.83424                                                     \n",
      " 14%|█▍        | 7/50 [00:23<02:24,  3.36s/trial, best loss: 6.5081565703541795]"
     ]
    },
    {
     "name": "stderr",
     "output_type": "stream",
     "text": [
      "/home/baran/anaconda3/envs/exp-tracking-env/lib/python3.11/site-packages/sklearn/metrics/_regression.py:483: FutureWarning: 'squared' is deprecated in version 1.4 and will be removed in 1.6. To calculate the root mean squared error, use the function'root_mean_squared_error'.\n",
      "  warnings.warn(\n",
      "\n",
      "/home/baran/anaconda3/envs/exp-tracking-env/lib/python3.11/site-packages/xgboost/core.py:160: UserWarning: [18:41:52] WARNING: /croot/xgboost-split_1713972711803/work/cpp_src/src/objective/regression_obj.cu:209: reg:linear is now deprecated in favor of reg:squarederror.\n",
      "  warnings.warn(smsg, UserWarning)\n",
      "\n"
     ]
    },
    {
     "name": "stdout",
     "output_type": "stream",
     "text": [
      "[2]\tvalidation-rmse:6.82253                                                     \n",
      "[3]\tvalidation-rmse:6.81193                                                     \n",
      "[4]\tvalidation-rmse:6.80520                                                     \n",
      "[5]\tvalidation-rmse:6.79215                                                     \n",
      "[6]\tvalidation-rmse:6.78866                                                     \n",
      "[7]\tvalidation-rmse:6.78216                                                     \n",
      "[8]\tvalidation-rmse:6.78188                                                     \n",
      "[9]\tvalidation-rmse:6.78332                                                     \n",
      "[10]\tvalidation-rmse:6.77834                                                    \n",
      "[11]\tvalidation-rmse:6.77109                                                    \n",
      "[12]\tvalidation-rmse:6.76812                                                    \n",
      "[13]\tvalidation-rmse:6.76478                                                    \n",
      "[14]\tvalidation-rmse:6.76165                                                    \n",
      "[15]\tvalidation-rmse:6.75778                                                    \n",
      "[16]\tvalidation-rmse:6.75429                                                    \n",
      "[17]\tvalidation-rmse:6.75120                                                    \n",
      "[18]\tvalidation-rmse:6.74478                                                    \n",
      "[19]\tvalidation-rmse:6.74551                                                    \n",
      "[0]\tvalidation-rmse:9.89873                                                     \n",
      "[1]\tvalidation-rmse:8.54050                                                     \n",
      "[2]\tvalidation-rmse:7.79513                                                     \n",
      "[3]\tvalidation-rmse:7.38060                                                     \n",
      "[4]\tvalidation-rmse:7.16147                                                     \n",
      " 16%|█▌        | 8/50 [00:24<01:52,  2.68s/trial, best loss: 6.5081565703541795]"
     ]
    },
    {
     "name": "stderr",
     "output_type": "stream",
     "text": [
      "/home/baran/anaconda3/envs/exp-tracking-env/lib/python3.11/site-packages/sklearn/metrics/_regression.py:483: FutureWarning: 'squared' is deprecated in version 1.4 and will be removed in 1.6. To calculate the root mean squared error, use the function'root_mean_squared_error'.\n",
      "  warnings.warn(\n",
      "\n",
      "/home/baran/anaconda3/envs/exp-tracking-env/lib/python3.11/site-packages/xgboost/core.py:160: UserWarning: [18:41:54] WARNING: /croot/xgboost-split_1713972711803/work/cpp_src/src/objective/regression_obj.cu:209: reg:linear is now deprecated in favor of reg:squarederror.\n",
      "  warnings.warn(smsg, UserWarning)\n",
      "\n"
     ]
    },
    {
     "name": "stdout",
     "output_type": "stream",
     "text": [
      "[5]\tvalidation-rmse:7.03911                                                     \n",
      "[6]\tvalidation-rmse:6.96650                                                     \n",
      "[7]\tvalidation-rmse:6.92445                                                     \n",
      "[8]\tvalidation-rmse:6.89860                                                     \n",
      "[9]\tvalidation-rmse:6.88479                                                     \n",
      "[10]\tvalidation-rmse:6.87149                                                    \n",
      "[11]\tvalidation-rmse:6.86760                                                    \n",
      "[12]\tvalidation-rmse:6.85734                                                    \n",
      "[13]\tvalidation-rmse:6.85435                                                    \n",
      "[14]\tvalidation-rmse:6.85279                                                    \n",
      "[15]\tvalidation-rmse:6.84419                                                    \n",
      "[16]\tvalidation-rmse:6.84082                                                    \n",
      "[17]\tvalidation-rmse:6.83949                                                    \n",
      "[18]\tvalidation-rmse:6.83747                                                    \n",
      "[19]\tvalidation-rmse:6.83289                                                    \n",
      " 18%|█▊        | 9/50 [00:25<01:25,  2.09s/trial, best loss: 6.5081565703541795]"
     ]
    },
    {
     "name": "stderr",
     "output_type": "stream",
     "text": [
      "/home/baran/anaconda3/envs/exp-tracking-env/lib/python3.11/site-packages/sklearn/metrics/_regression.py:483: FutureWarning: 'squared' is deprecated in version 1.4 and will be removed in 1.6. To calculate the root mean squared error, use the function'root_mean_squared_error'.\n",
      "  warnings.warn(\n",
      "\n",
      "/home/baran/anaconda3/envs/exp-tracking-env/lib/python3.11/site-packages/xgboost/core.py:160: UserWarning: [18:41:54] WARNING: /croot/xgboost-split_1713972711803/work/cpp_src/src/objective/regression_obj.cu:209: reg:linear is now deprecated in favor of reg:squarederror.\n",
      "  warnings.warn(smsg, UserWarning)\n",
      "\n"
     ]
    },
    {
     "name": "stdout",
     "output_type": "stream",
     "text": [
      "[0]\tvalidation-rmse:9.17102                                                     \n",
      "[1]\tvalidation-rmse:7.75614                                                     \n",
      "[2]\tvalidation-rmse:7.13896                                                     \n",
      "[3]\tvalidation-rmse:6.87006                                                     \n",
      "[4]\tvalidation-rmse:6.74803                                                     \n",
      "[5]\tvalidation-rmse:6.68220                                                     \n",
      "[6]\tvalidation-rmse:6.64746                                                     \n",
      "[7]\tvalidation-rmse:6.62857                                                     \n",
      "[8]\tvalidation-rmse:6.61456                                                     \n",
      "[9]\tvalidation-rmse:6.60384                                                     \n",
      "[10]\tvalidation-rmse:6.60022                                                    \n",
      "[11]\tvalidation-rmse:6.59667                                                    \n",
      "[12]\tvalidation-rmse:6.59199                                                    \n",
      "[13]\tvalidation-rmse:6.58876                                                    \n",
      "[14]\tvalidation-rmse:6.58283                                                    \n",
      "[15]\tvalidation-rmse:6.58011                                                    \n",
      "[16]\tvalidation-rmse:6.57874                                                    \n",
      "[17]\tvalidation-rmse:6.57463                                                    \n",
      "[18]\tvalidation-rmse:6.57237                                                    \n",
      "[19]\tvalidation-rmse:6.56964                                                    \n",
      "[0]\tvalidation-rmse:10.98926                                                     \n",
      " 20%|██        | 10/50 [00:28<01:37,  2.44s/trial, best loss: 6.5081565703541795]"
     ]
    },
    {
     "name": "stderr",
     "output_type": "stream",
     "text": [
      "/home/baran/anaconda3/envs/exp-tracking-env/lib/python3.11/site-packages/sklearn/metrics/_regression.py:483: FutureWarning: 'squared' is deprecated in version 1.4 and will be removed in 1.6. To calculate the root mean squared error, use the function'root_mean_squared_error'.\n",
      "  warnings.warn(\n",
      "\n",
      "/home/baran/anaconda3/envs/exp-tracking-env/lib/python3.11/site-packages/xgboost/core.py:160: UserWarning: [18:41:58] WARNING: /croot/xgboost-split_1713972711803/work/cpp_src/src/objective/regression_obj.cu:209: reg:linear is now deprecated in favor of reg:squarederror.\n",
      "  warnings.warn(smsg, UserWarning)\n",
      "\n"
     ]
    },
    {
     "name": "stdout",
     "output_type": "stream",
     "text": [
      "[1]\tvalidation-rmse:10.02010                                                     \n",
      "[2]\tvalidation-rmse:9.26010                                                      \n",
      "[3]\tvalidation-rmse:8.66874                                                      \n",
      "[4]\tvalidation-rmse:8.21387                                                      \n",
      "[5]\tvalidation-rmse:7.86721                                                      \n",
      "[6]\tvalidation-rmse:7.60396                                                      \n",
      "[7]\tvalidation-rmse:7.40497                                                      \n",
      "[8]\tvalidation-rmse:7.25501                                                      \n",
      "[9]\tvalidation-rmse:7.14054                                                      \n",
      "[10]\tvalidation-rmse:7.05330                                                     \n",
      "[11]\tvalidation-rmse:6.98649                                                     \n",
      "[12]\tvalidation-rmse:6.93464                                                     \n",
      "[13]\tvalidation-rmse:6.89605                                                     \n",
      "[14]\tvalidation-rmse:6.86560                                                     \n",
      "[15]\tvalidation-rmse:6.84099                                                     \n",
      "[16]\tvalidation-rmse:6.82174                                                     \n",
      "[17]\tvalidation-rmse:6.80591                                                     \n",
      "[18]\tvalidation-rmse:6.79271                                                     \n",
      "[19]\tvalidation-rmse:6.78090                                                     \n",
      "[0]\tvalidation-rmse:7.94084                                                      \n",
      "[1]\tvalidation-rmse:6.99023                                                      \n",
      " 22%|██▏       | 11/50 [00:30<01:19,  2.04s/trial, best loss: 6.5081565703541795]"
     ]
    },
    {
     "name": "stderr",
     "output_type": "stream",
     "text": [
      "/home/baran/anaconda3/envs/exp-tracking-env/lib/python3.11/site-packages/sklearn/metrics/_regression.py:483: FutureWarning: 'squared' is deprecated in version 1.4 and will be removed in 1.6. To calculate the root mean squared error, use the function'root_mean_squared_error'.\n",
      "  warnings.warn(\n",
      "\n",
      "/home/baran/anaconda3/envs/exp-tracking-env/lib/python3.11/site-packages/xgboost/core.py:160: UserWarning: [18:41:59] WARNING: /croot/xgboost-split_1713972711803/work/cpp_src/src/objective/regression_obj.cu:209: reg:linear is now deprecated in favor of reg:squarederror.\n",
      "  warnings.warn(smsg, UserWarning)\n",
      "\n"
     ]
    },
    {
     "name": "stdout",
     "output_type": "stream",
     "text": [
      "[2]\tvalidation-rmse:6.77433                                                      \n",
      "[3]\tvalidation-rmse:6.71508                                                      \n",
      "[4]\tvalidation-rmse:6.69608                                                      \n",
      "[5]\tvalidation-rmse:6.67980                                                      \n",
      "[6]\tvalidation-rmse:6.67373                                                      \n",
      "[7]\tvalidation-rmse:6.66852                                                      \n",
      "[8]\tvalidation-rmse:6.66467                                                      \n",
      "[9]\tvalidation-rmse:6.65673                                                      \n",
      "[10]\tvalidation-rmse:6.65221                                                     \n",
      "[11]\tvalidation-rmse:6.64636                                                     \n",
      "[12]\tvalidation-rmse:6.64115                                                     \n",
      "[13]\tvalidation-rmse:6.63643                                                     \n",
      "[14]\tvalidation-rmse:6.63325                                                     \n",
      "[15]\tvalidation-rmse:6.63012                                                     \n",
      "[16]\tvalidation-rmse:6.62723                                                     \n",
      "[17]\tvalidation-rmse:6.62419                                                     \n",
      "[18]\tvalidation-rmse:6.61814                                                     \n",
      "[19]\tvalidation-rmse:6.61669                                                     \n",
      " 24%|██▍       | 12/50 [00:31<01:07,  1.79s/trial, best loss: 6.5081565703541795]"
     ]
    },
    {
     "name": "stderr",
     "output_type": "stream",
     "text": [
      "/home/baran/anaconda3/envs/exp-tracking-env/lib/python3.11/site-packages/sklearn/metrics/_regression.py:483: FutureWarning: 'squared' is deprecated in version 1.4 and will be removed in 1.6. To calculate the root mean squared error, use the function'root_mean_squared_error'.\n",
      "  warnings.warn(\n",
      "\n",
      "/home/baran/anaconda3/envs/exp-tracking-env/lib/python3.11/site-packages/xgboost/core.py:160: UserWarning: [18:42:00] WARNING: /croot/xgboost-split_1713972711803/work/cpp_src/src/objective/regression_obj.cu:209: reg:linear is now deprecated in favor of reg:squarederror.\n",
      "  warnings.warn(smsg, UserWarning)\n",
      "\n"
     ]
    },
    {
     "name": "stdout",
     "output_type": "stream",
     "text": [
      "[0]\tvalidation-rmse:9.77160                                                      \n",
      "[1]\tvalidation-rmse:8.35785                                                      \n",
      "[2]\tvalidation-rmse:7.57280                                                      \n",
      "[3]\tvalidation-rmse:7.14503                                                      \n",
      "[4]\tvalidation-rmse:6.91362                                                      \n",
      "[5]\tvalidation-rmse:6.77966                                                      \n",
      "[6]\tvalidation-rmse:6.69937                                                      \n",
      "[7]\tvalidation-rmse:6.64659                                                      \n",
      "[8]\tvalidation-rmse:6.61627                                                      \n",
      "[9]\tvalidation-rmse:6.59594                                                      \n",
      "[10]\tvalidation-rmse:6.58074                                                     \n",
      "[11]\tvalidation-rmse:6.57035                                                     \n",
      "[12]\tvalidation-rmse:6.56283                                                     \n",
      "[13]\tvalidation-rmse:6.55633                                                     \n",
      "[14]\tvalidation-rmse:6.55464                                                     \n",
      "[15]\tvalidation-rmse:6.55234                                                     \n",
      "[16]\tvalidation-rmse:6.54883                                                     \n",
      "[17]\tvalidation-rmse:6.54599                                                     \n",
      "[18]\tvalidation-rmse:6.54225                                                     \n",
      "[19]\tvalidation-rmse:6.53937                                                     \n",
      "[0]\tvalidation-rmse:10.15062                                                     \n",
      "[1]\tvalidation-rmse:8.83198                                                      \n",
      "[2]\tvalidation-rmse:8.02183                                                      \n",
      "[3]\tvalidation-rmse:7.53393                                                      \n",
      " 26%|██▌       | 13/50 [00:37<01:56,  3.16s/trial, best loss: 6.5081565703541795]"
     ]
    },
    {
     "name": "stderr",
     "output_type": "stream",
     "text": [
      "/home/baran/anaconda3/envs/exp-tracking-env/lib/python3.11/site-packages/sklearn/metrics/_regression.py:483: FutureWarning: 'squared' is deprecated in version 1.4 and will be removed in 1.6. To calculate the root mean squared error, use the function'root_mean_squared_error'.\n",
      "  warnings.warn(\n",
      "\n",
      "/home/baran/anaconda3/envs/exp-tracking-env/lib/python3.11/site-packages/xgboost/core.py:160: UserWarning: [18:42:06] WARNING: /croot/xgboost-split_1713972711803/work/cpp_src/src/objective/regression_obj.cu:209: reg:linear is now deprecated in favor of reg:squarederror.\n",
      "  warnings.warn(smsg, UserWarning)\n",
      "\n"
     ]
    },
    {
     "name": "stdout",
     "output_type": "stream",
     "text": [
      "[4]\tvalidation-rmse:7.24661                                                      \n",
      "[5]\tvalidation-rmse:7.07244                                                      \n",
      "[6]\tvalidation-rmse:6.96595                                                      \n",
      "[7]\tvalidation-rmse:6.90263                                                      \n",
      "[8]\tvalidation-rmse:6.86440                                                      \n",
      "[9]\tvalidation-rmse:6.83722                                                      \n",
      "[10]\tvalidation-rmse:6.81866                                                     \n",
      "[11]\tvalidation-rmse:6.80965                                                     \n",
      "[12]\tvalidation-rmse:6.79869                                                     \n",
      "[13]\tvalidation-rmse:6.79158                                                     \n",
      "[14]\tvalidation-rmse:6.78843                                                     \n",
      "[15]\tvalidation-rmse:6.78583                                                     \n",
      "[16]\tvalidation-rmse:6.78386                                                     \n",
      "[17]\tvalidation-rmse:6.78097                                                     \n",
      "[18]\tvalidation-rmse:6.77759                                                     \n",
      "[19]\tvalidation-rmse:6.77594                                                     \n",
      " 28%|██▊       | 14/50 [00:38<01:28,  2.47s/trial, best loss: 6.5081565703541795]"
     ]
    },
    {
     "name": "stderr",
     "output_type": "stream",
     "text": [
      "/home/baran/anaconda3/envs/exp-tracking-env/lib/python3.11/site-packages/sklearn/metrics/_regression.py:483: FutureWarning: 'squared' is deprecated in version 1.4 and will be removed in 1.6. To calculate the root mean squared error, use the function'root_mean_squared_error'.\n",
      "  warnings.warn(\n",
      "\n",
      "/home/baran/anaconda3/envs/exp-tracking-env/lib/python3.11/site-packages/xgboost/core.py:160: UserWarning: [18:42:07] WARNING: /croot/xgboost-split_1713972711803/work/cpp_src/src/objective/regression_obj.cu:209: reg:linear is now deprecated in favor of reg:squarederror.\n",
      "  warnings.warn(smsg, UserWarning)\n",
      "\n"
     ]
    },
    {
     "name": "stdout",
     "output_type": "stream",
     "text": [
      "[0]\tvalidation-rmse:9.51485                                                      \n",
      "[1]\tvalidation-rmse:8.07066                                                      \n",
      "[2]\tvalidation-rmse:7.33999                                                      \n",
      "[3]\tvalidation-rmse:6.97108                                                      \n",
      "[4]\tvalidation-rmse:6.78668                                                      \n",
      "[5]\tvalidation-rmse:6.68630                                                      \n",
      "[6]\tvalidation-rmse:6.63057                                                      \n",
      "[7]\tvalidation-rmse:6.59975                                                      \n",
      "[8]\tvalidation-rmse:6.57730                                                      \n",
      "[9]\tvalidation-rmse:6.56530                                                      \n",
      "[10]\tvalidation-rmse:6.55456                                                     \n",
      "[11]\tvalidation-rmse:6.54651                                                     \n",
      "[12]\tvalidation-rmse:6.54445                                                     \n",
      "[13]\tvalidation-rmse:6.54010                                                     \n",
      "[14]\tvalidation-rmse:6.53689                                                     \n",
      "[15]\tvalidation-rmse:6.53352                                                     \n",
      "[16]\tvalidation-rmse:6.53036                                                     \n",
      "[17]\tvalidation-rmse:6.52223                                                     \n",
      "[18]\tvalidation-rmse:6.51820                                                     \n",
      "[19]\tvalidation-rmse:6.51513                                                     \n",
      "[0]\tvalidation-rmse:9.83649                                                      \n",
      "[1]\tvalidation-rmse:8.45008                                                      \n",
      "[2]\tvalidation-rmse:7.68299                                                      \n",
      " 30%|███       | 15/50 [00:41<01:33,  2.67s/trial, best loss: 6.5081565703541795]"
     ]
    },
    {
     "name": "stderr",
     "output_type": "stream",
     "text": [
      "/home/baran/anaconda3/envs/exp-tracking-env/lib/python3.11/site-packages/sklearn/metrics/_regression.py:483: FutureWarning: 'squared' is deprecated in version 1.4 and will be removed in 1.6. To calculate the root mean squared error, use the function'root_mean_squared_error'.\n",
      "  warnings.warn(\n",
      "\n",
      "/home/baran/anaconda3/envs/exp-tracking-env/lib/python3.11/site-packages/xgboost/core.py:160: UserWarning: [18:42:10] WARNING: /croot/xgboost-split_1713972711803/work/cpp_src/src/objective/regression_obj.cu:209: reg:linear is now deprecated in favor of reg:squarederror.\n",
      "  warnings.warn(smsg, UserWarning)\n",
      "\n"
     ]
    },
    {
     "name": "stdout",
     "output_type": "stream",
     "text": [
      "[3]\tvalidation-rmse:7.26705                                                      \n",
      "[4]\tvalidation-rmse:7.04096                                                      \n",
      "[5]\tvalidation-rmse:6.91478                                                      \n",
      "[6]\tvalidation-rmse:6.84239                                                      \n",
      "[7]\tvalidation-rmse:6.79987                                                      \n",
      "[8]\tvalidation-rmse:6.77316                                                      \n",
      "[9]\tvalidation-rmse:6.75619                                                      \n",
      "[10]\tvalidation-rmse:6.74598                                                     \n",
      "[11]\tvalidation-rmse:6.73637                                                     \n",
      "[12]\tvalidation-rmse:6.73034                                                     \n",
      "[13]\tvalidation-rmse:6.72680                                                     \n",
      "[14]\tvalidation-rmse:6.72488                                                     \n",
      "[15]\tvalidation-rmse:6.72207                                                     \n",
      "[16]\tvalidation-rmse:6.71470                                                     \n",
      "[17]\tvalidation-rmse:6.71245                                                     \n",
      "[18]\tvalidation-rmse:6.71033                                                     \n",
      "[19]\tvalidation-rmse:6.70836                                                     \n",
      "[0]\tvalidation-rmse:10.72921                                                     \n",
      "[1]\tvalidation-rmse:9.62298                                                      \n",
      " 32%|███▏      | 16/50 [00:42<01:16,  2.24s/trial, best loss: 6.5081565703541795]"
     ]
    },
    {
     "name": "stderr",
     "output_type": "stream",
     "text": [
      "/home/baran/anaconda3/envs/exp-tracking-env/lib/python3.11/site-packages/sklearn/metrics/_regression.py:483: FutureWarning: 'squared' is deprecated in version 1.4 and will be removed in 1.6. To calculate the root mean squared error, use the function'root_mean_squared_error'.\n",
      "  warnings.warn(\n",
      "\n",
      "/home/baran/anaconda3/envs/exp-tracking-env/lib/python3.11/site-packages/xgboost/core.py:160: UserWarning: [18:42:12] WARNING: /croot/xgboost-split_1713972711803/work/cpp_src/src/objective/regression_obj.cu:209: reg:linear is now deprecated in favor of reg:squarederror.\n",
      "  warnings.warn(smsg, UserWarning)\n",
      "\n"
     ]
    },
    {
     "name": "stdout",
     "output_type": "stream",
     "text": [
      "[2]\tvalidation-rmse:8.81361                                                      \n",
      "[3]\tvalidation-rmse:8.23197                                                      \n",
      "[4]\tvalidation-rmse:7.81428                                                      \n",
      "[5]\tvalidation-rmse:7.52015                                                      \n",
      "[6]\tvalidation-rmse:7.31043                                                      \n",
      "[7]\tvalidation-rmse:7.16468                                                      \n",
      "[8]\tvalidation-rmse:7.05936                                                      \n",
      "[9]\tvalidation-rmse:6.98332                                                      \n",
      "[10]\tvalidation-rmse:6.93070                                                     \n",
      "[11]\tvalidation-rmse:6.89199                                                     \n",
      "[12]\tvalidation-rmse:6.86481                                                     \n",
      "[13]\tvalidation-rmse:6.84358                                                     \n",
      "[14]\tvalidation-rmse:6.82640                                                     \n",
      "[15]\tvalidation-rmse:6.81406                                                     \n",
      "[16]\tvalidation-rmse:6.80412                                                     \n",
      "[17]\tvalidation-rmse:6.79642                                                     \n",
      "[18]\tvalidation-rmse:6.79138                                                     \n",
      "[19]\tvalidation-rmse:6.78783                                                     \n",
      "[0]\tvalidation-rmse:10.80499                                                     \n",
      "[1]\tvalidation-rmse:9.73974                                                      \n",
      "[2]\tvalidation-rmse:8.94402                                                      \n",
      " 34%|███▍      | 17/50 [00:43<01:02,  1.88s/trial, best loss: 6.5081565703541795]"
     ]
    },
    {
     "name": "stderr",
     "output_type": "stream",
     "text": [
      "/home/baran/anaconda3/envs/exp-tracking-env/lib/python3.11/site-packages/sklearn/metrics/_regression.py:483: FutureWarning: 'squared' is deprecated in version 1.4 and will be removed in 1.6. To calculate the root mean squared error, use the function'root_mean_squared_error'.\n",
      "  warnings.warn(\n",
      "\n",
      "/home/baran/anaconda3/envs/exp-tracking-env/lib/python3.11/site-packages/xgboost/core.py:160: UserWarning: [18:42:13] WARNING: /croot/xgboost-split_1713972711803/work/cpp_src/src/objective/regression_obj.cu:209: reg:linear is now deprecated in favor of reg:squarederror.\n",
      "  warnings.warn(smsg, UserWarning)\n",
      "\n"
     ]
    },
    {
     "name": "stdout",
     "output_type": "stream",
     "text": [
      "[3]\tvalidation-rmse:8.36190                                                      \n",
      "[4]\tvalidation-rmse:7.93818                                                      \n",
      "[5]\tvalidation-rmse:7.63629                                                      \n",
      "[6]\tvalidation-rmse:7.41641                                                      \n",
      "[7]\tvalidation-rmse:7.25529                                                      \n",
      "[8]\tvalidation-rmse:7.14108                                                      \n",
      "[9]\tvalidation-rmse:7.05799                                                      \n",
      "[10]\tvalidation-rmse:6.99702                                                     \n",
      "[11]\tvalidation-rmse:6.95311                                                     \n",
      "[12]\tvalidation-rmse:6.92072                                                     \n",
      "[13]\tvalidation-rmse:6.89563                                                     \n",
      "[14]\tvalidation-rmse:6.87605                                                     \n",
      "[15]\tvalidation-rmse:6.86110                                                     \n",
      "[16]\tvalidation-rmse:6.85003                                                     \n",
      "[17]\tvalidation-rmse:6.84069                                                     \n",
      "[18]\tvalidation-rmse:6.83258                                                     \n",
      "[19]\tvalidation-rmse:6.82584                                                     \n",
      "[0]\tvalidation-rmse:10.57784                                                     \n",
      "[1]\tvalidation-rmse:9.39974                                                      \n",
      " 36%|███▌      | 18/50 [00:44<00:51,  1.60s/trial, best loss: 6.5081565703541795]"
     ]
    },
    {
     "name": "stderr",
     "output_type": "stream",
     "text": [
      "/home/baran/anaconda3/envs/exp-tracking-env/lib/python3.11/site-packages/sklearn/metrics/_regression.py:483: FutureWarning: 'squared' is deprecated in version 1.4 and will be removed in 1.6. To calculate the root mean squared error, use the function'root_mean_squared_error'.\n",
      "  warnings.warn(\n",
      "\n",
      "/home/baran/anaconda3/envs/exp-tracking-env/lib/python3.11/site-packages/xgboost/core.py:160: UserWarning: [18:42:14] WARNING: /croot/xgboost-split_1713972711803/work/cpp_src/src/objective/regression_obj.cu:209: reg:linear is now deprecated in favor of reg:squarederror.\n",
      "  warnings.warn(smsg, UserWarning)\n",
      "\n"
     ]
    },
    {
     "name": "stdout",
     "output_type": "stream",
     "text": [
      "[2]\tvalidation-rmse:8.57178                                                      \n",
      "[3]\tvalidation-rmse:7.99390                                                      \n",
      "[4]\tvalidation-rmse:7.59975                                                      \n",
      "[5]\tvalidation-rmse:7.33203                                                      \n",
      "[6]\tvalidation-rmse:7.14762                                                      \n",
      "[7]\tvalidation-rmse:7.02157                                                      \n",
      "[8]\tvalidation-rmse:6.93589                                                      \n",
      "[9]\tvalidation-rmse:6.87562                                                      \n",
      "[10]\tvalidation-rmse:6.83513                                                     \n",
      "[11]\tvalidation-rmse:6.80601                                                     \n",
      "[12]\tvalidation-rmse:6.78107                                                     \n",
      "[13]\tvalidation-rmse:6.76476                                                     \n",
      "[14]\tvalidation-rmse:6.75381                                                     \n",
      "[15]\tvalidation-rmse:6.74377                                                     \n",
      "[16]\tvalidation-rmse:6.73600                                                     \n",
      "[17]\tvalidation-rmse:6.73052                                                     \n",
      "[18]\tvalidation-rmse:6.72562                                                     \n",
      "[19]\tvalidation-rmse:6.72217                                                     \n",
      " 38%|███▊      | 19/50 [00:46<00:51,  1.66s/trial, best loss: 6.5081565703541795]"
     ]
    },
    {
     "name": "stderr",
     "output_type": "stream",
     "text": [
      "/home/baran/anaconda3/envs/exp-tracking-env/lib/python3.11/site-packages/sklearn/metrics/_regression.py:483: FutureWarning: 'squared' is deprecated in version 1.4 and will be removed in 1.6. To calculate the root mean squared error, use the function'root_mean_squared_error'.\n",
      "  warnings.warn(\n",
      "\n",
      "/home/baran/anaconda3/envs/exp-tracking-env/lib/python3.11/site-packages/xgboost/core.py:160: UserWarning: [18:42:15] WARNING: /croot/xgboost-split_1713972711803/work/cpp_src/src/objective/regression_obj.cu:209: reg:linear is now deprecated in favor of reg:squarederror.\n",
      "  warnings.warn(smsg, UserWarning)\n",
      "\n"
     ]
    },
    {
     "name": "stdout",
     "output_type": "stream",
     "text": [
      "[0]\tvalidation-rmse:9.13312                                                      \n",
      "[1]\tvalidation-rmse:7.70483                                                      \n",
      "[2]\tvalidation-rmse:7.09080                                                      \n",
      "[3]\tvalidation-rmse:6.82409                                                      \n",
      "[4]\tvalidation-rmse:6.69978                                                      \n",
      "[5]\tvalidation-rmse:6.63823                                                      \n",
      "[6]\tvalidation-rmse:6.60642                                                      \n",
      "[7]\tvalidation-rmse:6.58422                                                      \n",
      "[8]\tvalidation-rmse:6.57156                                                      \n",
      "[9]\tvalidation-rmse:6.56093                                                      \n",
      "[10]\tvalidation-rmse:6.54667                                                     \n",
      "[11]\tvalidation-rmse:6.54340                                                     \n",
      "[12]\tvalidation-rmse:6.53957                                                     \n",
      "[13]\tvalidation-rmse:6.53664                                                     \n",
      "[14]\tvalidation-rmse:6.53501                                                     \n",
      "[15]\tvalidation-rmse:6.53195                                                     \n",
      "[16]\tvalidation-rmse:6.52727                                                     \n",
      "[17]\tvalidation-rmse:6.52603                                                     \n",
      "[18]\tvalidation-rmse:6.52390                                                     \n",
      "[19]\tvalidation-rmse:6.52278                                                     \n",
      " 40%|████      | 20/50 [00:49<01:03,  2.12s/trial, best loss: 6.5081565703541795]"
     ]
    },
    {
     "name": "stderr",
     "output_type": "stream",
     "text": [
      "/home/baran/anaconda3/envs/exp-tracking-env/lib/python3.11/site-packages/sklearn/metrics/_regression.py:483: FutureWarning: 'squared' is deprecated in version 1.4 and will be removed in 1.6. To calculate the root mean squared error, use the function'root_mean_squared_error'.\n",
      "  warnings.warn(\n",
      "\n",
      "/home/baran/anaconda3/envs/exp-tracking-env/lib/python3.11/site-packages/xgboost/core.py:160: UserWarning: [18:42:19] WARNING: /croot/xgboost-split_1713972711803/work/cpp_src/src/objective/regression_obj.cu:209: reg:linear is now deprecated in favor of reg:squarederror.\n",
      "  warnings.warn(smsg, UserWarning)\n",
      "\n"
     ]
    },
    {
     "name": "stdout",
     "output_type": "stream",
     "text": [
      "[0]\tvalidation-rmse:11.09870                                                     \n",
      "[1]\tvalidation-rmse:10.18815                                                     \n",
      "[2]\tvalidation-rmse:9.44558                                                      \n",
      "[3]\tvalidation-rmse:8.85030                                                      \n",
      "[4]\tvalidation-rmse:8.37225                                                      \n",
      "[5]\tvalidation-rmse:7.99400                                                      \n",
      "[6]\tvalidation-rmse:7.69444                                                      \n",
      "[7]\tvalidation-rmse:7.45713                                                      \n",
      "[8]\tvalidation-rmse:7.27046                                                      \n",
      "[9]\tvalidation-rmse:7.12214                                                      \n",
      "[10]\tvalidation-rmse:7.00784                                                     \n",
      "[11]\tvalidation-rmse:6.91496                                                     \n",
      "[12]\tvalidation-rmse:6.84072                                                     \n",
      "[13]\tvalidation-rmse:6.78154                                                     \n",
      "[14]\tvalidation-rmse:6.73373                                                     \n",
      "[15]\tvalidation-rmse:6.69537                                                     \n",
      "[16]\tvalidation-rmse:6.66361                                                     \n",
      "[17]\tvalidation-rmse:6.63682                                                     \n",
      "[18]\tvalidation-rmse:6.61515                                                     \n",
      "[19]\tvalidation-rmse:6.59730                                                     \n",
      " 42%|████▏     | 21/50 [00:58<01:55,  4.00s/trial, best loss: 6.5081565703541795]"
     ]
    },
    {
     "name": "stderr",
     "output_type": "stream",
     "text": [
      "/home/baran/anaconda3/envs/exp-tracking-env/lib/python3.11/site-packages/sklearn/metrics/_regression.py:483: FutureWarning: 'squared' is deprecated in version 1.4 and will be removed in 1.6. To calculate the root mean squared error, use the function'root_mean_squared_error'.\n",
      "  warnings.warn(\n",
      "\n",
      "/home/baran/anaconda3/envs/exp-tracking-env/lib/python3.11/site-packages/xgboost/core.py:160: UserWarning: [18:42:27] WARNING: /croot/xgboost-split_1713972711803/work/cpp_src/src/objective/regression_obj.cu:209: reg:linear is now deprecated in favor of reg:squarederror.\n",
      "  warnings.warn(smsg, UserWarning)\n",
      "\n"
     ]
    },
    {
     "name": "stdout",
     "output_type": "stream",
     "text": [
      "[0]\tvalidation-rmse:10.89649                                                     \n",
      "[1]\tvalidation-rmse:9.86304                                                      \n",
      "[2]\tvalidation-rmse:9.06099                                                      \n",
      "[3]\tvalidation-rmse:8.44555                                                      \n",
      "[4]\tvalidation-rmse:7.97772                                                      \n",
      "[5]\tvalidation-rmse:7.62599                                                      \n",
      "[6]\tvalidation-rmse:7.36050                                                      \n",
      "[7]\tvalidation-rmse:7.16173                                                      \n",
      "[8]\tvalidation-rmse:7.01553                                                      \n",
      "[9]\tvalidation-rmse:6.90350                                                      \n",
      "[10]\tvalidation-rmse:6.81887                                                     \n",
      "[11]\tvalidation-rmse:6.75468                                                     \n",
      "[12]\tvalidation-rmse:6.70588                                                     \n",
      "[13]\tvalidation-rmse:6.66626                                                     \n",
      "[14]\tvalidation-rmse:6.63590                                                     \n",
      "[15]\tvalidation-rmse:6.61206                                                     \n",
      "[16]\tvalidation-rmse:6.59225                                                     \n",
      "[17]\tvalidation-rmse:6.57680                                                     \n",
      "[18]\tvalidation-rmse:6.56384                                                     \n",
      "[19]\tvalidation-rmse:6.55262                                                     \n",
      " 44%|████▍     | 22/50 [01:05<02:21,  5.06s/trial, best loss: 6.5081565703541795]"
     ]
    },
    {
     "name": "stderr",
     "output_type": "stream",
     "text": [
      "/home/baran/anaconda3/envs/exp-tracking-env/lib/python3.11/site-packages/sklearn/metrics/_regression.py:483: FutureWarning: 'squared' is deprecated in version 1.4 and will be removed in 1.6. To calculate the root mean squared error, use the function'root_mean_squared_error'.\n",
      "  warnings.warn(\n",
      "\n",
      "/home/baran/anaconda3/envs/exp-tracking-env/lib/python3.11/site-packages/xgboost/core.py:160: UserWarning: [18:42:34] WARNING: /croot/xgboost-split_1713972711803/work/cpp_src/src/objective/regression_obj.cu:209: reg:linear is now deprecated in favor of reg:squarederror.\n",
      "  warnings.warn(smsg, UserWarning)\n",
      "\n"
     ]
    },
    {
     "name": "stdout",
     "output_type": "stream",
     "text": [
      "[0]\tvalidation-rmse:7.24301                                                      \n",
      "[1]\tvalidation-rmse:6.72204                                                      \n",
      "[2]\tvalidation-rmse:6.64045                                                      \n",
      "[3]\tvalidation-rmse:6.61773                                                      \n",
      "[4]\tvalidation-rmse:6.60920                                                      \n",
      "[5]\tvalidation-rmse:6.60271                                                      \n",
      "[6]\tvalidation-rmse:6.59783                                                      \n",
      "[7]\tvalidation-rmse:6.59273                                                      \n",
      "[8]\tvalidation-rmse:6.58448                                                      \n",
      "[9]\tvalidation-rmse:6.57652                                                      \n",
      "[10]\tvalidation-rmse:6.57218                                                     \n",
      "[11]\tvalidation-rmse:6.56592                                                     \n",
      "[12]\tvalidation-rmse:6.55689                                                     \n",
      "[13]\tvalidation-rmse:6.55253                                                     \n",
      "[14]\tvalidation-rmse:6.54677                                                     \n",
      "[15]\tvalidation-rmse:6.54187                                                     \n",
      "[16]\tvalidation-rmse:6.53831                                                     \n",
      "[17]\tvalidation-rmse:6.53686                                                     \n",
      "[18]\tvalidation-rmse:6.53438                                                     \n",
      "[19]\tvalidation-rmse:6.53213                                                     \n",
      " 46%|████▌     | 23/50 [01:07<01:51,  4.12s/trial, best loss: 6.5081565703541795]"
     ]
    },
    {
     "name": "stderr",
     "output_type": "stream",
     "text": [
      "/home/baran/anaconda3/envs/exp-tracking-env/lib/python3.11/site-packages/sklearn/metrics/_regression.py:483: FutureWarning: 'squared' is deprecated in version 1.4 and will be removed in 1.6. To calculate the root mean squared error, use the function'root_mean_squared_error'.\n",
      "  warnings.warn(\n",
      "\n",
      "/home/baran/anaconda3/envs/exp-tracking-env/lib/python3.11/site-packages/xgboost/core.py:160: UserWarning: [18:42:36] WARNING: /croot/xgboost-split_1713972711803/work/cpp_src/src/objective/regression_obj.cu:209: reg:linear is now deprecated in favor of reg:squarederror.\n",
      "  warnings.warn(smsg, UserWarning)\n",
      "\n"
     ]
    },
    {
     "name": "stdout",
     "output_type": "stream",
     "text": [
      "[0]\tvalidation-rmse:10.09564                                                     \n",
      "[1]\tvalidation-rmse:8.72655                                                      \n",
      "[2]\tvalidation-rmse:7.86651                                                      \n",
      "[3]\tvalidation-rmse:7.34218                                                      \n",
      "[4]\tvalidation-rmse:7.02559                                                      \n",
      "[5]\tvalidation-rmse:6.83018                                                      \n",
      "[6]\tvalidation-rmse:6.70995                                                      \n",
      "[7]\tvalidation-rmse:6.63364                                                      \n",
      "[8]\tvalidation-rmse:6.58357                                                      \n",
      "[9]\tvalidation-rmse:6.55239                                                      \n",
      "[10]\tvalidation-rmse:6.52996                                                     \n",
      "[11]\tvalidation-rmse:6.51023                                                     \n",
      "[12]\tvalidation-rmse:6.49804                                                     \n",
      "[13]\tvalidation-rmse:6.48597                                                     \n",
      "[14]\tvalidation-rmse:6.47665                                                     \n",
      "[15]\tvalidation-rmse:6.46984                                                     \n",
      "[16]\tvalidation-rmse:6.46351                                                     \n",
      "[17]\tvalidation-rmse:6.45858                                                     \n",
      "[18]\tvalidation-rmse:6.45530                                                     \n",
      "[19]\tvalidation-rmse:6.45115                                                     \n",
      " 48%|████▊     | 24/50 [01:15<02:14,  5.17s/trial, best loss: 6.451153603594918] "
     ]
    },
    {
     "name": "stderr",
     "output_type": "stream",
     "text": [
      "/home/baran/anaconda3/envs/exp-tracking-env/lib/python3.11/site-packages/sklearn/metrics/_regression.py:483: FutureWarning: 'squared' is deprecated in version 1.4 and will be removed in 1.6. To calculate the root mean squared error, use the function'root_mean_squared_error'.\n",
      "  warnings.warn(\n",
      "\n",
      "/home/baran/anaconda3/envs/exp-tracking-env/lib/python3.11/site-packages/xgboost/core.py:160: UserWarning: [18:42:44] WARNING: /croot/xgboost-split_1713972711803/work/cpp_src/src/objective/regression_obj.cu:209: reg:linear is now deprecated in favor of reg:squarederror.\n",
      "  warnings.warn(smsg, UserWarning)\n",
      "\n"
     ]
    },
    {
     "name": "stdout",
     "output_type": "stream",
     "text": [
      "[0]\tvalidation-rmse:10.13648                                                    \n",
      "[1]\tvalidation-rmse:8.77721                                                     \n",
      "[2]\tvalidation-rmse:7.91524                                                     \n",
      "[3]\tvalidation-rmse:7.38581                                                     \n",
      "[4]\tvalidation-rmse:7.06188                                                     \n",
      "[5]\tvalidation-rmse:6.86274                                                     \n",
      "[6]\tvalidation-rmse:6.74084                                                     \n",
      "[7]\tvalidation-rmse:6.65936                                                     \n",
      "[8]\tvalidation-rmse:6.60628                                                     \n",
      "[9]\tvalidation-rmse:6.57114                                                     \n",
      "[10]\tvalidation-rmse:6.54421                                                    \n",
      "[11]\tvalidation-rmse:6.52703                                                    \n",
      "[12]\tvalidation-rmse:6.51360                                                    \n",
      "[13]\tvalidation-rmse:6.50180                                                    \n",
      "[14]\tvalidation-rmse:6.49328                                                    \n",
      "[15]\tvalidation-rmse:6.48385                                                    \n",
      "[16]\tvalidation-rmse:6.47921                                                    \n",
      "[17]\tvalidation-rmse:6.47473                                                    \n",
      "[18]\tvalidation-rmse:6.47216                                                    \n",
      "[19]\tvalidation-rmse:6.46692                                                    \n",
      " 50%|█████     | 25/50 [01:21<02:18,  5.56s/trial, best loss: 6.451153603594918]"
     ]
    },
    {
     "name": "stderr",
     "output_type": "stream",
     "text": [
      "/home/baran/anaconda3/envs/exp-tracking-env/lib/python3.11/site-packages/sklearn/metrics/_regression.py:483: FutureWarning: 'squared' is deprecated in version 1.4 and will be removed in 1.6. To calculate the root mean squared error, use the function'root_mean_squared_error'.\n",
      "  warnings.warn(\n",
      "\n",
      "/home/baran/anaconda3/envs/exp-tracking-env/lib/python3.11/site-packages/xgboost/core.py:160: UserWarning: [18:42:50] WARNING: /croot/xgboost-split_1713972711803/work/cpp_src/src/objective/regression_obj.cu:209: reg:linear is now deprecated in favor of reg:squarederror.\n",
      "  warnings.warn(smsg, UserWarning)\n",
      "\n"
     ]
    },
    {
     "name": "stdout",
     "output_type": "stream",
     "text": [
      "[0]\tvalidation-rmse:10.13230                                                    \n",
      "[1]\tvalidation-rmse:8.77057                                                     \n",
      "[2]\tvalidation-rmse:7.91057                                                     \n",
      "[3]\tvalidation-rmse:7.37986                                                     \n",
      "[4]\tvalidation-rmse:7.04923                                                     \n",
      "[5]\tvalidation-rmse:6.84813                                                     \n",
      "[6]\tvalidation-rmse:6.72231                                                     \n",
      "[7]\tvalidation-rmse:6.64343                                                     \n",
      "[8]\tvalidation-rmse:6.58960                                                     \n",
      "[9]\tvalidation-rmse:6.55248                                                     \n",
      "[10]\tvalidation-rmse:6.52417                                                    \n",
      "[11]\tvalidation-rmse:6.50582                                                    \n",
      "[12]\tvalidation-rmse:6.49289                                                    \n",
      "[13]\tvalidation-rmse:6.47983                                                    \n",
      "[14]\tvalidation-rmse:6.47123                                                    \n",
      "[15]\tvalidation-rmse:6.46600                                                    \n",
      "[16]\tvalidation-rmse:6.46205                                                    \n",
      "[17]\tvalidation-rmse:6.45920                                                    \n",
      "[18]\tvalidation-rmse:6.45549                                                    \n",
      "[19]\tvalidation-rmse:6.45289                                                    \n",
      " 52%|█████▏    | 26/50 [01:29<02:28,  6.18s/trial, best loss: 6.451153603594918]"
     ]
    },
    {
     "name": "stderr",
     "output_type": "stream",
     "text": [
      "/home/baran/anaconda3/envs/exp-tracking-env/lib/python3.11/site-packages/sklearn/metrics/_regression.py:483: FutureWarning: 'squared' is deprecated in version 1.4 and will be removed in 1.6. To calculate the root mean squared error, use the function'root_mean_squared_error'.\n",
      "  warnings.warn(\n",
      "\n",
      "/home/baran/anaconda3/envs/exp-tracking-env/lib/python3.11/site-packages/xgboost/core.py:160: UserWarning: [18:42:58] WARNING: /croot/xgboost-split_1713972711803/work/cpp_src/src/objective/regression_obj.cu:209: reg:linear is now deprecated in favor of reg:squarederror.\n",
      "  warnings.warn(smsg, UserWarning)\n",
      "\n"
     ]
    },
    {
     "name": "stdout",
     "output_type": "stream",
     "text": [
      "[0]\tvalidation-rmse:11.11428                                                    \n",
      "[1]\tvalidation-rmse:10.21091                                                    \n",
      "[2]\tvalidation-rmse:9.47143                                                     \n",
      "[3]\tvalidation-rmse:8.87420                                                     \n",
      "[4]\tvalidation-rmse:8.39146                                                     \n",
      "[5]\tvalidation-rmse:8.00757                                                     \n",
      "[6]\tvalidation-rmse:7.70033                                                     \n",
      "[7]\tvalidation-rmse:7.45856                                                     \n",
      "[8]\tvalidation-rmse:7.26571                                                     \n",
      "[9]\tvalidation-rmse:7.11209                                                     \n",
      "[10]\tvalidation-rmse:6.99246                                                    \n",
      "[11]\tvalidation-rmse:6.89620                                                    \n",
      "[12]\tvalidation-rmse:6.81800                                                    \n",
      "[13]\tvalidation-rmse:6.75488                                                    \n",
      "[14]\tvalidation-rmse:6.70530                                                    \n",
      "[15]\tvalidation-rmse:6.66556                                                    \n",
      "[16]\tvalidation-rmse:6.63243                                                    \n",
      "[17]\tvalidation-rmse:6.60399                                                    \n",
      "[18]\tvalidation-rmse:6.58178                                                    \n",
      "[19]\tvalidation-rmse:6.56353                                                    \n",
      " 54%|█████▍    | 27/50 [01:41<03:03,  7.98s/trial, best loss: 6.451153603594918]"
     ]
    },
    {
     "name": "stderr",
     "output_type": "stream",
     "text": [
      "/home/baran/anaconda3/envs/exp-tracking-env/lib/python3.11/site-packages/sklearn/metrics/_regression.py:483: FutureWarning: 'squared' is deprecated in version 1.4 and will be removed in 1.6. To calculate the root mean squared error, use the function'root_mean_squared_error'.\n",
      "  warnings.warn(\n",
      "\n",
      "/home/baran/anaconda3/envs/exp-tracking-env/lib/python3.11/site-packages/xgboost/core.py:160: UserWarning: [18:43:10] WARNING: /croot/xgboost-split_1713972711803/work/cpp_src/src/objective/regression_obj.cu:209: reg:linear is now deprecated in favor of reg:squarederror.\n",
      "  warnings.warn(smsg, UserWarning)\n",
      "\n"
     ]
    },
    {
     "name": "stdout",
     "output_type": "stream",
     "text": [
      "[0]\tvalidation-rmse:10.09653                                                    \n",
      "[1]\tvalidation-rmse:8.72949                                                     \n",
      "[2]\tvalidation-rmse:7.88189                                                     \n",
      "[3]\tvalidation-rmse:7.36645                                                     \n",
      "[4]\tvalidation-rmse:7.05122                                                     \n",
      "[5]\tvalidation-rmse:6.85892                                                     \n",
      "[6]\tvalidation-rmse:6.74203                                                     \n",
      "[7]\tvalidation-rmse:6.66548                                                     \n",
      "[8]\tvalidation-rmse:6.61417                                                     \n",
      "[9]\tvalidation-rmse:6.57889                                                     \n",
      "[10]\tvalidation-rmse:6.55236                                                    \n",
      "[11]\tvalidation-rmse:6.53666                                                    \n",
      "[12]\tvalidation-rmse:6.52145                                                    \n",
      "[13]\tvalidation-rmse:6.51083                                                    \n",
      "[14]\tvalidation-rmse:6.50405                                                    \n",
      "[15]\tvalidation-rmse:6.49833                                                    \n",
      "[16]\tvalidation-rmse:6.49523                                                    \n",
      "[17]\tvalidation-rmse:6.49394                                                    \n",
      "[18]\tvalidation-rmse:6.49227                                                    \n",
      "[19]\tvalidation-rmse:6.48993                                                    \n",
      " 56%|█████▌    | 28/50 [01:47<02:43,  7.41s/trial, best loss: 6.451153603594918]"
     ]
    },
    {
     "name": "stderr",
     "output_type": "stream",
     "text": [
      "/home/baran/anaconda3/envs/exp-tracking-env/lib/python3.11/site-packages/sklearn/metrics/_regression.py:483: FutureWarning: 'squared' is deprecated in version 1.4 and will be removed in 1.6. To calculate the root mean squared error, use the function'root_mean_squared_error'.\n",
      "  warnings.warn(\n",
      "\n",
      "/home/baran/anaconda3/envs/exp-tracking-env/lib/python3.11/site-packages/xgboost/core.py:160: UserWarning: [18:43:16] WARNING: /croot/xgboost-split_1713972711803/work/cpp_src/src/objective/regression_obj.cu:209: reg:linear is now deprecated in favor of reg:squarederror.\n",
      "  warnings.warn(smsg, UserWarning)\n",
      "\n"
     ]
    },
    {
     "name": "stdout",
     "output_type": "stream",
     "text": [
      "[0]\tvalidation-rmse:10.29327                                                    \n",
      "[1]\tvalidation-rmse:8.98720                                                     \n",
      "[2]\tvalidation-rmse:8.11637                                                     \n",
      "[3]\tvalidation-rmse:7.55093                                                     \n",
      "[4]\tvalidation-rmse:7.19086                                                     \n",
      "[5]\tvalidation-rmse:6.95726                                                     \n",
      "[6]\tvalidation-rmse:6.80310                                                     \n",
      "[7]\tvalidation-rmse:6.70445                                                     \n",
      "[8]\tvalidation-rmse:6.63746                                                     \n",
      "[9]\tvalidation-rmse:6.59165                                                     \n",
      "[10]\tvalidation-rmse:6.56097                                                    \n",
      "[11]\tvalidation-rmse:6.53749                                                    \n",
      "[12]\tvalidation-rmse:6.52069                                                    \n",
      "[13]\tvalidation-rmse:6.50884                                                    \n",
      "[14]\tvalidation-rmse:6.49720                                                    \n",
      "[15]\tvalidation-rmse:6.48796                                                    \n",
      "[16]\tvalidation-rmse:6.48116                                                    \n",
      "[17]\tvalidation-rmse:6.47547                                                    \n",
      "[18]\tvalidation-rmse:6.47079                                                    \n",
      "[19]\tvalidation-rmse:6.46868                                                    \n",
      " 58%|█████▊    | 29/50 [01:56<02:43,  7.77s/trial, best loss: 6.451153603594918]"
     ]
    },
    {
     "name": "stderr",
     "output_type": "stream",
     "text": [
      "/home/baran/anaconda3/envs/exp-tracking-env/lib/python3.11/site-packages/sklearn/metrics/_regression.py:483: FutureWarning: 'squared' is deprecated in version 1.4 and will be removed in 1.6. To calculate the root mean squared error, use the function'root_mean_squared_error'.\n",
      "  warnings.warn(\n",
      "\n",
      "/home/baran/anaconda3/envs/exp-tracking-env/lib/python3.11/site-packages/xgboost/core.py:160: UserWarning: [18:43:25] WARNING: /croot/xgboost-split_1713972711803/work/cpp_src/src/objective/regression_obj.cu:209: reg:linear is now deprecated in favor of reg:squarederror.\n",
      "  warnings.warn(smsg, UserWarning)\n",
      "\n"
     ]
    },
    {
     "name": "stdout",
     "output_type": "stream",
     "text": [
      "[0]\tvalidation-rmse:10.49001                                                    \n",
      "[1]\tvalidation-rmse:9.26039                                                     \n",
      "[2]\tvalidation-rmse:8.40509                                                     \n",
      "[3]\tvalidation-rmse:7.81909                                                     \n",
      "[4]\tvalidation-rmse:7.41858                                                     \n",
      "[5]\tvalidation-rmse:7.14943                                                     \n",
      "[6]\tvalidation-rmse:6.96494                                                     \n",
      "[7]\tvalidation-rmse:6.83660                                                     \n",
      "[8]\tvalidation-rmse:6.75150                                                     \n",
      "[9]\tvalidation-rmse:6.69152                                                     \n",
      "[10]\tvalidation-rmse:6.64965                                                    \n",
      "[11]\tvalidation-rmse:6.61502                                                    \n",
      "[12]\tvalidation-rmse:6.58934                                                    \n",
      "[13]\tvalidation-rmse:6.57138                                                    \n",
      "[14]\tvalidation-rmse:6.55578                                                    \n",
      "[15]\tvalidation-rmse:6.54536                                                    \n",
      "[16]\tvalidation-rmse:6.53650                                                    \n",
      "[17]\tvalidation-rmse:6.53059                                                    \n",
      "[18]\tvalidation-rmse:6.52366                                                    \n",
      "[19]\tvalidation-rmse:6.51985                                                    \n",
      " 60%|██████    | 30/50 [02:01<02:20,  7.00s/trial, best loss: 6.451153603594918]"
     ]
    },
    {
     "name": "stderr",
     "output_type": "stream",
     "text": [
      "/home/baran/anaconda3/envs/exp-tracking-env/lib/python3.11/site-packages/sklearn/metrics/_regression.py:483: FutureWarning: 'squared' is deprecated in version 1.4 and will be removed in 1.6. To calculate the root mean squared error, use the function'root_mean_squared_error'.\n",
      "  warnings.warn(\n",
      "\n",
      "/home/baran/anaconda3/envs/exp-tracking-env/lib/python3.11/site-packages/xgboost/core.py:160: UserWarning: [18:43:30] WARNING: /croot/xgboost-split_1713972711803/work/cpp_src/src/objective/regression_obj.cu:209: reg:linear is now deprecated in favor of reg:squarederror.\n",
      "  warnings.warn(smsg, UserWarning)\n",
      "\n"
     ]
    },
    {
     "name": "stdout",
     "output_type": "stream",
     "text": [
      "[0]\tvalidation-rmse:8.58648                                                     \n",
      "[1]\tvalidation-rmse:7.25517                                                     \n",
      "[2]\tvalidation-rmse:6.79469                                                     \n",
      "[3]\tvalidation-rmse:6.62513                                                     \n",
      "[4]\tvalidation-rmse:6.55306                                                     \n",
      "[5]\tvalidation-rmse:6.51502                                                     \n",
      "[6]\tvalidation-rmse:6.49720                                                     \n",
      "[7]\tvalidation-rmse:6.48694                                                     \n",
      "[8]\tvalidation-rmse:6.48261                                                     \n",
      "[9]\tvalidation-rmse:6.47458                                                     \n",
      "[10]\tvalidation-rmse:6.46985                                                    \n",
      "[11]\tvalidation-rmse:6.46597                                                    \n",
      "[12]\tvalidation-rmse:6.46130                                                    \n",
      "[13]\tvalidation-rmse:6.45569                                                    \n",
      "[14]\tvalidation-rmse:6.44918                                                    \n",
      "[15]\tvalidation-rmse:6.44423                                                    \n",
      "[16]\tvalidation-rmse:6.44102                                                    \n",
      "[17]\tvalidation-rmse:6.43840                                                    \n",
      "[18]\tvalidation-rmse:6.43506                                                    \n",
      "[19]\tvalidation-rmse:6.43112                                                    \n",
      " 62%|██████▏   | 31/50 [02:06<02:02,  6.45s/trial, best loss: 6.431117420332631]"
     ]
    },
    {
     "name": "stderr",
     "output_type": "stream",
     "text": [
      "/home/baran/anaconda3/envs/exp-tracking-env/lib/python3.11/site-packages/sklearn/metrics/_regression.py:483: FutureWarning: 'squared' is deprecated in version 1.4 and will be removed in 1.6. To calculate the root mean squared error, use the function'root_mean_squared_error'.\n",
      "  warnings.warn(\n",
      "\n",
      "/home/baran/anaconda3/envs/exp-tracking-env/lib/python3.11/site-packages/xgboost/core.py:160: UserWarning: [18:43:35] WARNING: /croot/xgboost-split_1713972711803/work/cpp_src/src/objective/regression_obj.cu:209: reg:linear is now deprecated in favor of reg:squarederror.\n",
      "  warnings.warn(smsg, UserWarning)\n",
      "\n"
     ]
    },
    {
     "name": "stdout",
     "output_type": "stream",
     "text": [
      "[0]\tvalidation-rmse:8.29089                                                     \n",
      "[1]\tvalidation-rmse:7.08352                                                     \n",
      "[2]\tvalidation-rmse:6.73989                                                     \n",
      "[3]\tvalidation-rmse:6.62527                                                     \n",
      "[4]\tvalidation-rmse:6.57918                                                     \n",
      "[5]\tvalidation-rmse:6.55803                                                     \n",
      "[6]\tvalidation-rmse:6.54205                                                     \n",
      "[7]\tvalidation-rmse:6.52573                                                     \n",
      "[8]\tvalidation-rmse:6.51942                                                     \n",
      "[9]\tvalidation-rmse:6.51273                                                     \n",
      "[10]\tvalidation-rmse:6.50836                                                    \n",
      "[11]\tvalidation-rmse:6.50485                                                    \n",
      "[12]\tvalidation-rmse:6.50298                                                    \n",
      "[13]\tvalidation-rmse:6.49992                                                    \n",
      "[14]\tvalidation-rmse:6.49826                                                    \n",
      "[15]\tvalidation-rmse:6.49456                                                    \n",
      "[16]\tvalidation-rmse:6.48849                                                    \n",
      "[17]\tvalidation-rmse:6.48548                                                    \n",
      "[18]\tvalidation-rmse:6.48337                                                    \n",
      "[19]\tvalidation-rmse:6.48135                                                    \n",
      " 64%|██████▍   | 32/50 [02:10<01:44,  5.81s/trial, best loss: 6.431117420332631]"
     ]
    },
    {
     "name": "stderr",
     "output_type": "stream",
     "text": [
      "/home/baran/anaconda3/envs/exp-tracking-env/lib/python3.11/site-packages/sklearn/metrics/_regression.py:483: FutureWarning: 'squared' is deprecated in version 1.4 and will be removed in 1.6. To calculate the root mean squared error, use the function'root_mean_squared_error'.\n",
      "  warnings.warn(\n",
      "\n",
      "/home/baran/anaconda3/envs/exp-tracking-env/lib/python3.11/site-packages/xgboost/core.py:160: UserWarning: [18:43:40] WARNING: /croot/xgboost-split_1713972711803/work/cpp_src/src/objective/regression_obj.cu:209: reg:linear is now deprecated in favor of reg:squarederror.\n",
      "  warnings.warn(smsg, UserWarning)\n",
      "\n"
     ]
    },
    {
     "name": "stdout",
     "output_type": "stream",
     "text": [
      "[0]\tvalidation-rmse:8.69116                                                     \n",
      "[1]\tvalidation-rmse:7.33177                                                     \n",
      "[2]\tvalidation-rmse:6.83953                                                     \n",
      "[3]\tvalidation-rmse:6.65744                                                     \n",
      "[4]\tvalidation-rmse:6.57838                                                     \n",
      "[5]\tvalidation-rmse:6.53701                                                     \n",
      "[6]\tvalidation-rmse:6.51986                                                     \n",
      "[7]\tvalidation-rmse:6.50687                                                     \n",
      "[8]\tvalidation-rmse:6.49743                                                     \n",
      "[9]\tvalidation-rmse:6.49035                                                     \n",
      "[10]\tvalidation-rmse:6.48593                                                    \n",
      "[11]\tvalidation-rmse:6.48183                                                    \n",
      "[12]\tvalidation-rmse:6.47665                                                    \n",
      "[13]\tvalidation-rmse:6.47194                                                    \n",
      "[14]\tvalidation-rmse:6.46757                                                    \n",
      "[15]\tvalidation-rmse:6.46009                                                    \n",
      "[16]\tvalidation-rmse:6.45713                                                    \n",
      "[17]\tvalidation-rmse:6.45382                                                    \n",
      "[18]\tvalidation-rmse:6.45058                                                    \n",
      "[19]\tvalidation-rmse:6.44920                                                    \n",
      " 66%|██████▌   | 33/50 [02:21<02:02,  7.18s/trial, best loss: 6.431117420332631]"
     ]
    },
    {
     "name": "stderr",
     "output_type": "stream",
     "text": [
      "/home/baran/anaconda3/envs/exp-tracking-env/lib/python3.11/site-packages/sklearn/metrics/_regression.py:483: FutureWarning: 'squared' is deprecated in version 1.4 and will be removed in 1.6. To calculate the root mean squared error, use the function'root_mean_squared_error'.\n",
      "  warnings.warn(\n",
      "\n",
      "/home/baran/anaconda3/envs/exp-tracking-env/lib/python3.11/site-packages/xgboost/core.py:160: UserWarning: [18:43:50] WARNING: /croot/xgboost-split_1713972711803/work/cpp_src/src/objective/regression_obj.cu:209: reg:linear is now deprecated in favor of reg:squarederror.\n",
      "  warnings.warn(smsg, UserWarning)\n",
      "\n"
     ]
    },
    {
     "name": "stdout",
     "output_type": "stream",
     "text": [
      "[0]\tvalidation-rmse:6.82652                                                     \n",
      "[1]\tvalidation-rmse:6.59597                                                     \n",
      "[2]\tvalidation-rmse:6.57288                                                     \n",
      "[3]\tvalidation-rmse:6.56097                                                     \n",
      "[4]\tvalidation-rmse:6.55308                                                     \n",
      "[5]\tvalidation-rmse:6.54026                                                     \n",
      "[6]\tvalidation-rmse:6.53099                                                     \n",
      "[7]\tvalidation-rmse:6.52338                                                     \n",
      "[8]\tvalidation-rmse:6.51230                                                     \n",
      "[9]\tvalidation-rmse:6.50817                                                     \n",
      "[10]\tvalidation-rmse:6.49989                                                    \n",
      "[11]\tvalidation-rmse:6.49255                                                    \n",
      "[12]\tvalidation-rmse:6.48764                                                    \n",
      "[13]\tvalidation-rmse:6.48132                                                    \n",
      "[14]\tvalidation-rmse:6.47178                                                    \n",
      "[15]\tvalidation-rmse:6.46762                                                    \n",
      "[16]\tvalidation-rmse:6.46445                                                    \n",
      "[17]\tvalidation-rmse:6.46213                                                    \n",
      "[18]\tvalidation-rmse:6.45657                                                    \n",
      "[19]\tvalidation-rmse:6.45350                                                    \n",
      " 68%|██████▊   | 34/50 [02:25<01:43,  6.46s/trial, best loss: 6.431117420332631]"
     ]
    },
    {
     "name": "stderr",
     "output_type": "stream",
     "text": [
      "/home/baran/anaconda3/envs/exp-tracking-env/lib/python3.11/site-packages/sklearn/metrics/_regression.py:483: FutureWarning: 'squared' is deprecated in version 1.4 and will be removed in 1.6. To calculate the root mean squared error, use the function'root_mean_squared_error'.\n",
      "  warnings.warn(\n",
      "\n",
      "/home/baran/anaconda3/envs/exp-tracking-env/lib/python3.11/site-packages/xgboost/core.py:160: UserWarning: [18:43:55] WARNING: /croot/xgboost-split_1713972711803/work/cpp_src/src/objective/regression_obj.cu:209: reg:linear is now deprecated in favor of reg:squarederror.\n",
      "  warnings.warn(smsg, UserWarning)\n",
      "\n"
     ]
    },
    {
     "name": "stdout",
     "output_type": "stream",
     "text": [
      "[0]\tvalidation-rmse:8.67009                                                     \n",
      "[1]\tvalidation-rmse:7.31600                                                     \n",
      "[2]\tvalidation-rmse:6.82908                                                     \n",
      "[3]\tvalidation-rmse:6.63813                                                     \n",
      "[4]\tvalidation-rmse:6.56099                                                     \n",
      "[5]\tvalidation-rmse:6.52372                                                     \n",
      "[6]\tvalidation-rmse:6.50328                                                     \n",
      "[7]\tvalidation-rmse:6.49089                                                     \n",
      "[8]\tvalidation-rmse:6.48324                                                     \n",
      "[9]\tvalidation-rmse:6.47773                                                     \n",
      "[10]\tvalidation-rmse:6.47186                                                    \n",
      "[11]\tvalidation-rmse:6.46799                                                    \n",
      "[12]\tvalidation-rmse:6.46388                                                    \n",
      "[13]\tvalidation-rmse:6.45783                                                    \n",
      "[14]\tvalidation-rmse:6.45241                                                    \n",
      "[15]\tvalidation-rmse:6.44854                                                    \n",
      "[16]\tvalidation-rmse:6.44530                                                    \n",
      "[17]\tvalidation-rmse:6.44278                                                    \n",
      "[18]\tvalidation-rmse:6.43923                                                    \n",
      "[19]\tvalidation-rmse:6.43704                                                    \n",
      " 70%|███████   | 35/50 [02:31<01:34,  6.31s/trial, best loss: 6.431117420332631]"
     ]
    },
    {
     "name": "stderr",
     "output_type": "stream",
     "text": [
      "/home/baran/anaconda3/envs/exp-tracking-env/lib/python3.11/site-packages/sklearn/metrics/_regression.py:483: FutureWarning: 'squared' is deprecated in version 1.4 and will be removed in 1.6. To calculate the root mean squared error, use the function'root_mean_squared_error'.\n",
      "  warnings.warn(\n",
      "\n",
      "/home/baran/anaconda3/envs/exp-tracking-env/lib/python3.11/site-packages/xgboost/core.py:160: UserWarning: [18:44:01] WARNING: /croot/xgboost-split_1713972711803/work/cpp_src/src/objective/regression_obj.cu:209: reg:linear is now deprecated in favor of reg:squarederror.\n",
      "  warnings.warn(smsg, UserWarning)\n",
      "\n"
     ]
    },
    {
     "name": "stdout",
     "output_type": "stream",
     "text": [
      "[0]\tvalidation-rmse:7.99488                                                     \n",
      "[1]\tvalidation-rmse:6.97775                                                     \n",
      "[2]\tvalidation-rmse:6.72956                                                     \n",
      "[3]\tvalidation-rmse:6.66184                                                     \n",
      "[4]\tvalidation-rmse:6.63200                                                     \n",
      "[5]\tvalidation-rmse:6.62592                                                     \n",
      "[6]\tvalidation-rmse:6.61727                                                     \n",
      "[7]\tvalidation-rmse:6.60984                                                     \n",
      "[8]\tvalidation-rmse:6.60304                                                     \n",
      "[9]\tvalidation-rmse:6.59611                                                     \n",
      "[10]\tvalidation-rmse:6.59495                                                    \n",
      "[11]\tvalidation-rmse:6.58954                                                    \n",
      "[12]\tvalidation-rmse:6.58618                                                    \n",
      "[13]\tvalidation-rmse:6.58206                                                    \n",
      "[14]\tvalidation-rmse:6.57810                                                    \n",
      "[15]\tvalidation-rmse:6.57656                                                    \n",
      "[16]\tvalidation-rmse:6.57281                                                    \n",
      "[17]\tvalidation-rmse:6.56775                                                    \n",
      "[18]\tvalidation-rmse:6.56364                                                    \n",
      "[19]\tvalidation-rmse:6.55877                                                    \n",
      " 72%|███████▏  | 36/50 [02:33<01:10,  5.04s/trial, best loss: 6.431117420332631]"
     ]
    },
    {
     "name": "stderr",
     "output_type": "stream",
     "text": [
      "/home/baran/anaconda3/envs/exp-tracking-env/lib/python3.11/site-packages/sklearn/metrics/_regression.py:483: FutureWarning: 'squared' is deprecated in version 1.4 and will be removed in 1.6. To calculate the root mean squared error, use the function'root_mean_squared_error'.\n",
      "  warnings.warn(\n",
      "\n",
      "/home/baran/anaconda3/envs/exp-tracking-env/lib/python3.11/site-packages/xgboost/core.py:160: UserWarning: [18:44:03] WARNING: /croot/xgboost-split_1713972711803/work/cpp_src/src/objective/regression_obj.cu:209: reg:linear is now deprecated in favor of reg:squarederror.\n",
      "  warnings.warn(smsg, UserWarning)\n",
      "\n"
     ]
    },
    {
     "name": "stdout",
     "output_type": "stream",
     "text": [
      "[0]\tvalidation-rmse:8.66199                                                     \n",
      "[1]\tvalidation-rmse:7.35678                                                     \n",
      "[2]\tvalidation-rmse:6.90603                                                     \n",
      "[3]\tvalidation-rmse:6.73979                                                     \n",
      "[4]\tvalidation-rmse:6.66311                                                     \n",
      "[5]\tvalidation-rmse:6.63015                                                     \n",
      "[6]\tvalidation-rmse:6.61001                                                     \n",
      "[7]\tvalidation-rmse:6.59984                                                     \n",
      "[8]\tvalidation-rmse:6.59254                                                     \n",
      "[9]\tvalidation-rmse:6.58703                                                     \n",
      "[10]\tvalidation-rmse:6.58176                                                    \n",
      "[11]\tvalidation-rmse:6.57695                                                    \n",
      "[12]\tvalidation-rmse:6.56995                                                    \n",
      "[13]\tvalidation-rmse:6.56630                                                    \n",
      "[14]\tvalidation-rmse:6.56474                                                    \n",
      "[15]\tvalidation-rmse:6.56146                                                    \n",
      "[16]\tvalidation-rmse:6.55939                                                    \n",
      "[17]\tvalidation-rmse:6.55633                                                    \n",
      "[18]\tvalidation-rmse:6.55020                                                    \n",
      "[19]\tvalidation-rmse:6.54617                                                    \n",
      " 74%|███████▍  | 37/50 [02:37<01:00,  4.64s/trial, best loss: 6.431117420332631]"
     ]
    },
    {
     "name": "stderr",
     "output_type": "stream",
     "text": [
      "/home/baran/anaconda3/envs/exp-tracking-env/lib/python3.11/site-packages/sklearn/metrics/_regression.py:483: FutureWarning: 'squared' is deprecated in version 1.4 and will be removed in 1.6. To calculate the root mean squared error, use the function'root_mean_squared_error'.\n",
      "  warnings.warn(\n",
      "\n",
      "/home/baran/anaconda3/envs/exp-tracking-env/lib/python3.11/site-packages/xgboost/core.py:160: UserWarning: [18:44:07] WARNING: /croot/xgboost-split_1713972711803/work/cpp_src/src/objective/regression_obj.cu:209: reg:linear is now deprecated in favor of reg:squarederror.\n",
      "  warnings.warn(smsg, UserWarning)\n",
      "\n"
     ]
    },
    {
     "name": "stdout",
     "output_type": "stream",
     "text": [
      "[0]\tvalidation-rmse:7.11906                                                     \n",
      "[1]\tvalidation-rmse:6.63812                                                     \n",
      "[2]\tvalidation-rmse:6.56013                                                     \n",
      "[3]\tvalidation-rmse:6.53771                                                     \n",
      "[4]\tvalidation-rmse:6.53419                                                     \n",
      "[5]\tvalidation-rmse:6.52366                                                     \n",
      "[6]\tvalidation-rmse:6.51134                                                     \n",
      "[7]\tvalidation-rmse:6.50410                                                     \n",
      "[8]\tvalidation-rmse:6.49839                                                     \n",
      "[9]\tvalidation-rmse:6.49386                                                     \n",
      "[10]\tvalidation-rmse:6.48865                                                    \n",
      "[11]\tvalidation-rmse:6.47884                                                    \n",
      "[12]\tvalidation-rmse:6.47278                                                    \n",
      "[13]\tvalidation-rmse:6.46439                                                    \n",
      "[14]\tvalidation-rmse:6.45848                                                    \n",
      "[15]\tvalidation-rmse:6.45317                                                    \n",
      "[16]\tvalidation-rmse:6.45070                                                    \n",
      "[17]\tvalidation-rmse:6.44990                                                    \n",
      "[18]\tvalidation-rmse:6.44767                                                    \n",
      "[19]\tvalidation-rmse:6.44519                                                    \n",
      " 76%|███████▌  | 38/50 [02:40<00:50,  4.17s/trial, best loss: 6.431117420332631]"
     ]
    },
    {
     "name": "stderr",
     "output_type": "stream",
     "text": [
      "/home/baran/anaconda3/envs/exp-tracking-env/lib/python3.11/site-packages/sklearn/metrics/_regression.py:483: FutureWarning: 'squared' is deprecated in version 1.4 and will be removed in 1.6. To calculate the root mean squared error, use the function'root_mean_squared_error'.\n",
      "  warnings.warn(\n",
      "\n",
      "/home/baran/anaconda3/envs/exp-tracking-env/lib/python3.11/site-packages/xgboost/core.py:160: UserWarning: [18:44:10] WARNING: /croot/xgboost-split_1713972711803/work/cpp_src/src/objective/regression_obj.cu:209: reg:linear is now deprecated in favor of reg:squarederror.\n",
      "  warnings.warn(smsg, UserWarning)\n",
      "\n"
     ]
    },
    {
     "name": "stdout",
     "output_type": "stream",
     "text": [
      "[0]\tvalidation-rmse:8.30174                                                     \n",
      "[1]\tvalidation-rmse:7.12162                                                     \n",
      "[2]\tvalidation-rmse:6.79238                                                     \n",
      "[3]\tvalidation-rmse:6.68202                                                     \n",
      "[4]\tvalidation-rmse:6.63449                                                     \n",
      "[5]\tvalidation-rmse:6.60943                                                     \n",
      "[6]\tvalidation-rmse:6.59567                                                     \n",
      "[7]\tvalidation-rmse:6.58902                                                     \n",
      "[8]\tvalidation-rmse:6.58356                                                     \n",
      "[9]\tvalidation-rmse:6.57665                                                     \n",
      "[10]\tvalidation-rmse:6.57183                                                    \n",
      "[11]\tvalidation-rmse:6.56614                                                    \n",
      "[12]\tvalidation-rmse:6.56178                                                    \n",
      "[13]\tvalidation-rmse:6.55611                                                    \n",
      "[14]\tvalidation-rmse:6.55340                                                    \n",
      "[15]\tvalidation-rmse:6.55044                                                    \n",
      "[16]\tvalidation-rmse:6.54558                                                    \n",
      "[17]\tvalidation-rmse:6.54089                                                    \n",
      "[18]\tvalidation-rmse:6.54034                                                    \n",
      "[19]\tvalidation-rmse:6.53565                                                    \n",
      " 78%|███████▊  | 39/50 [02:44<00:43,  3.97s/trial, best loss: 6.431117420332631]"
     ]
    },
    {
     "name": "stderr",
     "output_type": "stream",
     "text": [
      "/home/baran/anaconda3/envs/exp-tracking-env/lib/python3.11/site-packages/sklearn/metrics/_regression.py:483: FutureWarning: 'squared' is deprecated in version 1.4 and will be removed in 1.6. To calculate the root mean squared error, use the function'root_mean_squared_error'.\n",
      "  warnings.warn(\n",
      "\n",
      "/home/baran/anaconda3/envs/exp-tracking-env/lib/python3.11/site-packages/xgboost/core.py:160: UserWarning: [18:44:13] WARNING: /croot/xgboost-split_1713972711803/work/cpp_src/src/objective/regression_obj.cu:209: reg:linear is now deprecated in favor of reg:squarederror.\n",
      "  warnings.warn(smsg, UserWarning)\n",
      "\n"
     ]
    },
    {
     "name": "stdout",
     "output_type": "stream",
     "text": [
      "[0]\tvalidation-rmse:7.44066                                                     \n",
      "[1]\tvalidation-rmse:6.79604                                                     \n",
      "[2]\tvalidation-rmse:6.67791                                                     \n",
      "[3]\tvalidation-rmse:6.65528                                                     \n",
      "[4]\tvalidation-rmse:6.64400                                                     \n",
      "[5]\tvalidation-rmse:6.63788                                                     \n",
      "[6]\tvalidation-rmse:6.62700                                                     \n",
      "[7]\tvalidation-rmse:6.62192                                                     \n",
      "[8]\tvalidation-rmse:6.62061                                                     \n",
      "[9]\tvalidation-rmse:6.61561                                                     \n",
      "[10]\tvalidation-rmse:6.61097                                                    \n",
      "[11]\tvalidation-rmse:6.60646                                                    \n",
      "[12]\tvalidation-rmse:6.60506                                                    \n",
      "[13]\tvalidation-rmse:6.59880                                                    \n",
      "[14]\tvalidation-rmse:6.59361                                                    \n",
      "[15]\tvalidation-rmse:6.59128                                                    \n",
      "[16]\tvalidation-rmse:6.58551                                                    \n",
      "[17]\tvalidation-rmse:6.57863                                                    \n",
      "[18]\tvalidation-rmse:6.57534                                                    \n",
      "[19]\tvalidation-rmse:6.57224                                                    \n",
      " 80%|████████  | 40/50 [02:46<00:34,  3.48s/trial, best loss: 6.431117420332631]"
     ]
    },
    {
     "name": "stderr",
     "output_type": "stream",
     "text": [
      "/home/baran/anaconda3/envs/exp-tracking-env/lib/python3.11/site-packages/sklearn/metrics/_regression.py:483: FutureWarning: 'squared' is deprecated in version 1.4 and will be removed in 1.6. To calculate the root mean squared error, use the function'root_mean_squared_error'.\n",
      "  warnings.warn(\n",
      "\n",
      "/home/baran/anaconda3/envs/exp-tracking-env/lib/python3.11/site-packages/xgboost/core.py:160: UserWarning: [18:44:15] WARNING: /croot/xgboost-split_1713972711803/work/cpp_src/src/objective/regression_obj.cu:209: reg:linear is now deprecated in favor of reg:squarederror.\n",
      "  warnings.warn(smsg, UserWarning)\n",
      "\n"
     ]
    },
    {
     "name": "stdout",
     "output_type": "stream",
     "text": [
      "[0]\tvalidation-rmse:8.98027                                                     \n",
      "[1]\tvalidation-rmse:7.55001                                                     \n",
      "[2]\tvalidation-rmse:6.96624                                                     \n",
      "[3]\tvalidation-rmse:6.72210                                                     \n",
      "[4]\tvalidation-rmse:6.61261                                                     \n",
      "[5]\tvalidation-rmse:6.56027                                                     \n",
      "[6]\tvalidation-rmse:6.53135                                                     \n",
      "[7]\tvalidation-rmse:6.51409                                                     \n",
      "[8]\tvalidation-rmse:6.50317                                                     \n",
      "[9]\tvalidation-rmse:6.49279                                                     \n",
      "[10]\tvalidation-rmse:6.48831                                                    \n",
      "[11]\tvalidation-rmse:6.48501                                                    \n",
      "[12]\tvalidation-rmse:6.48059                                                    \n",
      "[13]\tvalidation-rmse:6.47406                                                    \n",
      "[14]\tvalidation-rmse:6.47021                                                    \n",
      "[15]\tvalidation-rmse:6.46660                                                    \n",
      "[16]\tvalidation-rmse:6.46355                                                    \n",
      "[17]\tvalidation-rmse:6.46032                                                    \n",
      "[18]\tvalidation-rmse:6.45533                                                    \n",
      "[19]\tvalidation-rmse:6.45258                                                    \n",
      " 82%|████████▏ | 41/50 [02:50<00:33,  3.71s/trial, best loss: 6.431117420332631]"
     ]
    },
    {
     "name": "stderr",
     "output_type": "stream",
     "text": [
      "/home/baran/anaconda3/envs/exp-tracking-env/lib/python3.11/site-packages/sklearn/metrics/_regression.py:483: FutureWarning: 'squared' is deprecated in version 1.4 and will be removed in 1.6. To calculate the root mean squared error, use the function'root_mean_squared_error'.\n",
      "  warnings.warn(\n",
      "\n",
      "/home/baran/anaconda3/envs/exp-tracking-env/lib/python3.11/site-packages/xgboost/core.py:160: UserWarning: [18:44:20] WARNING: /croot/xgboost-split_1713972711803/work/cpp_src/src/objective/regression_obj.cu:209: reg:linear is now deprecated in favor of reg:squarederror.\n",
      "  warnings.warn(smsg, UserWarning)\n",
      "\n"
     ]
    },
    {
     "name": "stdout",
     "output_type": "stream",
     "text": [
      "[0]\tvalidation-rmse:6.70347                                                     \n",
      "[1]\tvalidation-rmse:6.58479                                                     \n",
      "[2]\tvalidation-rmse:6.57571                                                     \n",
      "[3]\tvalidation-rmse:6.56549                                                     \n",
      "[4]\tvalidation-rmse:6.55582                                                     \n",
      "[5]\tvalidation-rmse:6.54885                                                     \n",
      "[6]\tvalidation-rmse:6.52852                                                     \n",
      "[7]\tvalidation-rmse:6.52097                                                     \n",
      "[8]\tvalidation-rmse:6.51270                                                     \n",
      "[9]\tvalidation-rmse:6.50507                                                     \n",
      "[10]\tvalidation-rmse:6.49882                                                    \n",
      "[11]\tvalidation-rmse:6.48997                                                    \n",
      "[12]\tvalidation-rmse:6.48645                                                    \n",
      "[13]\tvalidation-rmse:6.48352                                                    \n",
      "[14]\tvalidation-rmse:6.47789                                                    \n",
      "[15]\tvalidation-rmse:6.47098                                                    \n",
      "[16]\tvalidation-rmse:6.46806                                                    \n",
      "[17]\tvalidation-rmse:6.46779                                                    \n",
      "[18]\tvalidation-rmse:6.46378                                                    \n",
      "[19]\tvalidation-rmse:6.46075                                                    \n",
      " 84%|████████▍ | 42/50 [02:53<00:27,  3.45s/trial, best loss: 6.431117420332631]"
     ]
    },
    {
     "name": "stderr",
     "output_type": "stream",
     "text": [
      "/home/baran/anaconda3/envs/exp-tracking-env/lib/python3.11/site-packages/sklearn/metrics/_regression.py:483: FutureWarning: 'squared' is deprecated in version 1.4 and will be removed in 1.6. To calculate the root mean squared error, use the function'root_mean_squared_error'.\n",
      "  warnings.warn(\n",
      "\n",
      "/home/baran/anaconda3/envs/exp-tracking-env/lib/python3.11/site-packages/xgboost/core.py:160: UserWarning: [18:44:23] WARNING: /croot/xgboost-split_1713972711803/work/cpp_src/src/objective/regression_obj.cu:209: reg:linear is now deprecated in favor of reg:squarederror.\n",
      "  warnings.warn(smsg, UserWarning)\n",
      "\n"
     ]
    },
    {
     "name": "stdout",
     "output_type": "stream",
     "text": [
      "[0]\tvalidation-rmse:9.46598                                                     \n",
      "[1]\tvalidation-rmse:8.03020                                                     \n",
      "[2]\tvalidation-rmse:7.31913                                                     \n",
      "[3]\tvalidation-rmse:6.97665                                                     \n",
      "[4]\tvalidation-rmse:6.80145                                                     \n",
      "[5]\tvalidation-rmse:6.71125                                                     \n",
      "[6]\tvalidation-rmse:6.65654                                                     \n",
      "[7]\tvalidation-rmse:6.62647                                                     \n",
      "[8]\tvalidation-rmse:6.60974                                                     \n",
      "[9]\tvalidation-rmse:6.59512                                                     \n",
      "[10]\tvalidation-rmse:6.58509                                                    \n",
      "[11]\tvalidation-rmse:6.57820                                                    \n",
      "[12]\tvalidation-rmse:6.56674                                                    \n",
      "[13]\tvalidation-rmse:6.56308                                                    \n",
      "[14]\tvalidation-rmse:6.56113                                                    \n",
      "[15]\tvalidation-rmse:6.55864                                                    \n",
      "[16]\tvalidation-rmse:6.55669                                                    \n",
      "[17]\tvalidation-rmse:6.55424                                                    \n",
      "[18]\tvalidation-rmse:6.55132                                                    \n",
      "[19]\tvalidation-rmse:6.54977                                                    \n",
      " 86%|████████▌ | 43/50 [02:57<00:24,  3.43s/trial, best loss: 6.431117420332631]"
     ]
    },
    {
     "name": "stderr",
     "output_type": "stream",
     "text": [
      "/home/baran/anaconda3/envs/exp-tracking-env/lib/python3.11/site-packages/sklearn/metrics/_regression.py:483: FutureWarning: 'squared' is deprecated in version 1.4 and will be removed in 1.6. To calculate the root mean squared error, use the function'root_mean_squared_error'.\n",
      "  warnings.warn(\n",
      "\n",
      "/home/baran/anaconda3/envs/exp-tracking-env/lib/python3.11/site-packages/xgboost/core.py:160: UserWarning: [18:44:26] WARNING: /croot/xgboost-split_1713972711803/work/cpp_src/src/objective/regression_obj.cu:209: reg:linear is now deprecated in favor of reg:squarederror.\n",
      "  warnings.warn(smsg, UserWarning)\n",
      "\n"
     ]
    },
    {
     "name": "stdout",
     "output_type": "stream",
     "text": [
      "[0]\tvalidation-rmse:7.77904                                                     \n",
      "[1]\tvalidation-rmse:6.83386                                                     \n",
      "[2]\tvalidation-rmse:6.62162                                                     \n",
      "[3]\tvalidation-rmse:6.56341                                                     \n",
      "[4]\tvalidation-rmse:6.53686                                                     \n",
      "[5]\tvalidation-rmse:6.52465                                                     \n",
      "[6]\tvalidation-rmse:6.51716                                                     \n",
      "[7]\tvalidation-rmse:6.51056                                                     \n",
      "[8]\tvalidation-rmse:6.50404                                                     \n",
      "[9]\tvalidation-rmse:6.49745                                                     \n",
      "[10]\tvalidation-rmse:6.49434                                                    \n",
      "[11]\tvalidation-rmse:6.48818                                                    \n",
      "[12]\tvalidation-rmse:6.48034                                                    \n",
      "[13]\tvalidation-rmse:6.47631                                                    \n",
      "[14]\tvalidation-rmse:6.47245                                                    \n",
      "[15]\tvalidation-rmse:6.46648                                                    \n",
      "[16]\tvalidation-rmse:6.46166                                                    \n",
      "[17]\tvalidation-rmse:6.45418                                                    \n",
      "[18]\tvalidation-rmse:6.44968                                                    \n",
      "[19]\tvalidation-rmse:6.44724                                                    \n",
      " 88%|████████▊ | 44/50 [03:00<00:20,  3.50s/trial, best loss: 6.431117420332631]"
     ]
    },
    {
     "name": "stderr",
     "output_type": "stream",
     "text": [
      "/home/baran/anaconda3/envs/exp-tracking-env/lib/python3.11/site-packages/sklearn/metrics/_regression.py:483: FutureWarning: 'squared' is deprecated in version 1.4 and will be removed in 1.6. To calculate the root mean squared error, use the function'root_mean_squared_error'.\n",
      "  warnings.warn(\n",
      "\n",
      "/home/baran/anaconda3/envs/exp-tracking-env/lib/python3.11/site-packages/xgboost/core.py:160: UserWarning: [18:44:30] WARNING: /croot/xgboost-split_1713972711803/work/cpp_src/src/objective/regression_obj.cu:209: reg:linear is now deprecated in favor of reg:squarederror.\n",
      "  warnings.warn(smsg, UserWarning)\n",
      "\n"
     ]
    },
    {
     "name": "stdout",
     "output_type": "stream",
     "text": [
      "[0]\tvalidation-rmse:8.86183                                                     \n",
      "[1]\tvalidation-rmse:7.48785                                                     \n",
      "[2]\tvalidation-rmse:6.96117                                                     \n",
      "[3]\tvalidation-rmse:6.74879                                                     \n",
      "[4]\tvalidation-rmse:6.65473                                                     \n",
      "[5]\tvalidation-rmse:6.60899                                                     \n",
      "[6]\tvalidation-rmse:6.58338                                                     \n",
      "[7]\tvalidation-rmse:6.56806                                                     \n",
      "[8]\tvalidation-rmse:6.55935                                                     \n",
      "[9]\tvalidation-rmse:6.55524                                                     \n",
      "[10]\tvalidation-rmse:6.54807                                                    \n",
      "[11]\tvalidation-rmse:6.54355                                                    \n",
      "[12]\tvalidation-rmse:6.53965                                                    \n",
      "[13]\tvalidation-rmse:6.53567                                                    \n",
      "[14]\tvalidation-rmse:6.53306                                                    \n",
      "[15]\tvalidation-rmse:6.53147                                                    \n",
      "[16]\tvalidation-rmse:6.52730                                                    \n",
      "[17]\tvalidation-rmse:6.52169                                                    \n",
      "[18]\tvalidation-rmse:6.51972                                                    \n",
      "[19]\tvalidation-rmse:6.51673                                                    \n",
      " 90%|█████████ | 45/50 [03:05<00:20,  4.00s/trial, best loss: 6.431117420332631]"
     ]
    },
    {
     "name": "stderr",
     "output_type": "stream",
     "text": [
      "/home/baran/anaconda3/envs/exp-tracking-env/lib/python3.11/site-packages/sklearn/metrics/_regression.py:483: FutureWarning: 'squared' is deprecated in version 1.4 and will be removed in 1.6. To calculate the root mean squared error, use the function'root_mean_squared_error'.\n",
      "  warnings.warn(\n",
      "\n",
      "/home/baran/anaconda3/envs/exp-tracking-env/lib/python3.11/site-packages/xgboost/core.py:160: UserWarning: [18:44:35] WARNING: /croot/xgboost-split_1713972711803/work/cpp_src/src/objective/regression_obj.cu:209: reg:linear is now deprecated in favor of reg:squarederror.\n",
      "  warnings.warn(smsg, UserWarning)\n",
      "\n"
     ]
    },
    {
     "name": "stdout",
     "output_type": "stream",
     "text": [
      "[0]\tvalidation-rmse:8.17979                                                     \n",
      "[1]\tvalidation-rmse:7.05700                                                     \n",
      "[2]\tvalidation-rmse:6.76361                                                     \n",
      "[3]\tvalidation-rmse:6.66791                                                     \n",
      "[4]\tvalidation-rmse:6.62742                                                     \n",
      "[5]\tvalidation-rmse:6.60931                                                     \n",
      "[6]\tvalidation-rmse:6.59617                                                     \n",
      "[7]\tvalidation-rmse:6.59028                                                     \n",
      "[8]\tvalidation-rmse:6.58474                                                     \n",
      "[9]\tvalidation-rmse:6.57829                                                     \n",
      "[10]\tvalidation-rmse:6.57473                                                    \n",
      "[11]\tvalidation-rmse:6.56916                                                    \n",
      "[12]\tvalidation-rmse:6.56649                                                    \n",
      "[13]\tvalidation-rmse:6.56009                                                    \n",
      "[14]\tvalidation-rmse:6.55685                                                    \n",
      "[15]\tvalidation-rmse:6.55364                                                    \n",
      "[16]\tvalidation-rmse:6.54743                                                    \n",
      "[17]\tvalidation-rmse:6.54551                                                    \n",
      "[18]\tvalidation-rmse:6.54418                                                    \n",
      "[19]\tvalidation-rmse:6.54182                                                    \n",
      " 92%|█████████▏| 46/50 [03:09<00:15,  3.82s/trial, best loss: 6.431117420332631]"
     ]
    },
    {
     "name": "stderr",
     "output_type": "stream",
     "text": [
      "/home/baran/anaconda3/envs/exp-tracking-env/lib/python3.11/site-packages/sklearn/metrics/_regression.py:483: FutureWarning: 'squared' is deprecated in version 1.4 and will be removed in 1.6. To calculate the root mean squared error, use the function'root_mean_squared_error'.\n",
      "  warnings.warn(\n",
      "\n",
      "/home/baran/anaconda3/envs/exp-tracking-env/lib/python3.11/site-packages/xgboost/core.py:160: UserWarning: [18:44:38] WARNING: /croot/xgboost-split_1713972711803/work/cpp_src/src/objective/regression_obj.cu:209: reg:linear is now deprecated in favor of reg:squarederror.\n",
      "  warnings.warn(smsg, UserWarning)\n",
      "\n"
     ]
    },
    {
     "name": "stdout",
     "output_type": "stream",
     "text": [
      "[0]\tvalidation-rmse:9.31555                                                     \n",
      "[1]\tvalidation-rmse:7.86934                                                     \n",
      "[2]\tvalidation-rmse:7.18908                                                     \n",
      "[3]\tvalidation-rmse:6.87704                                                     \n",
      "[4]\tvalidation-rmse:6.72818                                                     \n",
      "[5]\tvalidation-rmse:6.65088                                                     \n",
      "[6]\tvalidation-rmse:6.60673                                                     \n",
      "[7]\tvalidation-rmse:6.58145                                                     \n",
      "[8]\tvalidation-rmse:6.56321                                                     \n",
      "[9]\tvalidation-rmse:6.55312                                                     \n",
      "[10]\tvalidation-rmse:6.54427                                                    \n",
      "[11]\tvalidation-rmse:6.54059                                                    \n",
      "[12]\tvalidation-rmse:6.53613                                                    \n",
      "[13]\tvalidation-rmse:6.52838                                                    \n",
      "[14]\tvalidation-rmse:6.52507                                                    \n",
      "[15]\tvalidation-rmse:6.52192                                                    \n",
      "[16]\tvalidation-rmse:6.51894                                                    \n",
      "[17]\tvalidation-rmse:6.51640                                                    \n",
      "[18]\tvalidation-rmse:6.51349                                                    \n",
      "[19]\tvalidation-rmse:6.51085                                                    \n",
      " 94%|█████████▍| 47/50 [03:11<00:10,  3.47s/trial, best loss: 6.431117420332631]"
     ]
    },
    {
     "name": "stderr",
     "output_type": "stream",
     "text": [
      "/home/baran/anaconda3/envs/exp-tracking-env/lib/python3.11/site-packages/sklearn/metrics/_regression.py:483: FutureWarning: 'squared' is deprecated in version 1.4 and will be removed in 1.6. To calculate the root mean squared error, use the function'root_mean_squared_error'.\n",
      "  warnings.warn(\n",
      "\n",
      "/home/baran/anaconda3/envs/exp-tracking-env/lib/python3.11/site-packages/xgboost/core.py:160: UserWarning: [18:44:41] WARNING: /croot/xgboost-split_1713972711803/work/cpp_src/src/objective/regression_obj.cu:209: reg:linear is now deprecated in favor of reg:squarederror.\n",
      "  warnings.warn(smsg, UserWarning)\n",
      "\n"
     ]
    },
    {
     "name": "stdout",
     "output_type": "stream",
     "text": [
      "[0]\tvalidation-rmse:9.63432                                                     \n",
      "[1]\tvalidation-rmse:8.20777                                                     \n",
      "[2]\tvalidation-rmse:7.46321                                                     \n",
      "[3]\tvalidation-rmse:7.07606                                                     \n",
      "[4]\tvalidation-rmse:6.87773                                                     \n",
      "[5]\tvalidation-rmse:6.76890                                                     \n",
      "[6]\tvalidation-rmse:6.71250                                                     \n",
      "[7]\tvalidation-rmse:6.67468                                                     \n",
      "[8]\tvalidation-rmse:6.65009                                                     \n",
      "[9]\tvalidation-rmse:6.63404                                                     \n",
      "[10]\tvalidation-rmse:6.62432                                                    \n",
      "[11]\tvalidation-rmse:6.61702                                                    \n",
      "[12]\tvalidation-rmse:6.61384                                                    \n",
      "[13]\tvalidation-rmse:6.61173                                                    \n",
      "[14]\tvalidation-rmse:6.60886                                                    \n",
      "[15]\tvalidation-rmse:6.60719                                                    \n",
      "[16]\tvalidation-rmse:6.60439                                                    \n",
      "[17]\tvalidation-rmse:6.60239                                                    \n",
      "[18]\tvalidation-rmse:6.59980                                                    \n",
      "[19]\tvalidation-rmse:6.59673                                                    \n",
      " 96%|█████████▌| 48/50 [03:13<00:06,  3.01s/trial, best loss: 6.431117420332631]"
     ]
    },
    {
     "name": "stderr",
     "output_type": "stream",
     "text": [
      "/home/baran/anaconda3/envs/exp-tracking-env/lib/python3.11/site-packages/sklearn/metrics/_regression.py:483: FutureWarning: 'squared' is deprecated in version 1.4 and will be removed in 1.6. To calculate the root mean squared error, use the function'root_mean_squared_error'.\n",
      "  warnings.warn(\n",
      "\n",
      "/home/baran/anaconda3/envs/exp-tracking-env/lib/python3.11/site-packages/xgboost/core.py:160: UserWarning: [18:44:43] WARNING: /croot/xgboost-split_1713972711803/work/cpp_src/src/objective/regression_obj.cu:209: reg:linear is now deprecated in favor of reg:squarederror.\n",
      "  warnings.warn(smsg, UserWarning)\n",
      "\n"
     ]
    },
    {
     "name": "stdout",
     "output_type": "stream",
     "text": [
      "[0]\tvalidation-rmse:7.59364                                                     \n",
      "[1]\tvalidation-rmse:6.75221                                                     \n",
      "[2]\tvalidation-rmse:6.59138                                                     \n",
      "[3]\tvalidation-rmse:6.53930                                                     \n",
      "[4]\tvalidation-rmse:6.52349                                                     \n",
      "[5]\tvalidation-rmse:6.51188                                                     \n",
      "[6]\tvalidation-rmse:6.50178                                                     \n",
      "[7]\tvalidation-rmse:6.49283                                                     \n",
      "[8]\tvalidation-rmse:6.48796                                                     \n",
      "[9]\tvalidation-rmse:6.48259                                                     \n",
      "[10]\tvalidation-rmse:6.47645                                                    \n",
      "[11]\tvalidation-rmse:6.47047                                                    \n",
      "[12]\tvalidation-rmse:6.46390                                                    \n",
      "[13]\tvalidation-rmse:6.45943                                                    \n",
      "[14]\tvalidation-rmse:6.45566                                                    \n",
      "[15]\tvalidation-rmse:6.45190                                                    \n",
      "[16]\tvalidation-rmse:6.44722                                                    \n",
      "[17]\tvalidation-rmse:6.44435                                                    \n",
      "[18]\tvalidation-rmse:6.44236                                                    \n",
      "[19]\tvalidation-rmse:6.43901                                                    \n",
      " 98%|█████████▊| 49/50 [03:17<00:03,  3.13s/trial, best loss: 6.431117420332631]"
     ]
    },
    {
     "name": "stderr",
     "output_type": "stream",
     "text": [
      "/home/baran/anaconda3/envs/exp-tracking-env/lib/python3.11/site-packages/sklearn/metrics/_regression.py:483: FutureWarning: 'squared' is deprecated in version 1.4 and will be removed in 1.6. To calculate the root mean squared error, use the function'root_mean_squared_error'.\n",
      "  warnings.warn(\n",
      "\n",
      "/home/baran/anaconda3/envs/exp-tracking-env/lib/python3.11/site-packages/xgboost/core.py:160: UserWarning: [18:44:46] WARNING: /croot/xgboost-split_1713972711803/work/cpp_src/src/objective/regression_obj.cu:209: reg:linear is now deprecated in favor of reg:squarederror.\n",
      "  warnings.warn(smsg, UserWarning)\n",
      "\n"
     ]
    },
    {
     "name": "stdout",
     "output_type": "stream",
     "text": [
      "[0]\tvalidation-rmse:8.53098                                                     \n",
      "[1]\tvalidation-rmse:7.22834                                                     \n",
      "[2]\tvalidation-rmse:6.80220                                                     \n",
      "[3]\tvalidation-rmse:6.64960                                                     \n",
      "[4]\tvalidation-rmse:6.58657                                                     \n",
      "[5]\tvalidation-rmse:6.55333                                                     \n",
      "[6]\tvalidation-rmse:6.53408                                                     \n",
      "[7]\tvalidation-rmse:6.52260                                                     \n",
      "[8]\tvalidation-rmse:6.51744                                                     \n",
      "[9]\tvalidation-rmse:6.51332                                                     \n",
      "[10]\tvalidation-rmse:6.50660                                                    \n",
      "[11]\tvalidation-rmse:6.50257                                                    \n",
      "[12]\tvalidation-rmse:6.49809                                                    \n",
      "[13]\tvalidation-rmse:6.49460                                                    \n",
      "[14]\tvalidation-rmse:6.48921                                                    \n",
      "[15]\tvalidation-rmse:6.48602                                                    \n",
      "[16]\tvalidation-rmse:6.48187                                                    \n",
      "[17]\tvalidation-rmse:6.47749                                                    \n",
      "[18]\tvalidation-rmse:6.47227                                                    \n",
      "[19]\tvalidation-rmse:6.46869                                                    \n",
      "100%|██████████| 50/50 [03:20<00:00,  4.02s/trial, best loss: 6.431117420332631]\n"
     ]
    },
    {
     "name": "stderr",
     "output_type": "stream",
     "text": [
      "/home/baran/anaconda3/envs/exp-tracking-env/lib/python3.11/site-packages/sklearn/metrics/_regression.py:483: FutureWarning: 'squared' is deprecated in version 1.4 and will be removed in 1.6. To calculate the root mean squared error, use the function'root_mean_squared_error'.\n",
      "  warnings.warn(\n",
      "\n"
     ]
    }
   ],
   "source": [
    "search_space = {\n",
    "    \"max_depth\": scope.int(hp.quniform(\"max_depth\", 2, 50, 1)),\n",
    "    \"learning_rate\": hp.loguniform(\"learning_rate\", -2, 0),\n",
    "    \"reg_alpha\": hp.loguniform(\"reg_alpha\", -3, -1),\n",
    "    \"reg_lambda\": hp.loguniform(\"reg_lambda\", -2, -1),\n",
    "    \"min_child_weight\": hp.loguniform(\"min_child_weight\", -1, 2),\n",
    "    \"objective\": \"reg:linear\",\n",
    "    \"seed\": 42,\n",
    "}\n",
    "\n",
    "best_result = fmin(\n",
    "    fn=objective, space=search_space, algo=tpe.suggest, max_evals=50, trials=Trials()\n",
    ")"
   ]
  },
  {
   "cell_type": "code",
   "execution_count": 42,
   "metadata": {},
   "outputs": [
    {
     "name": "stderr",
     "output_type": "stream",
     "text": [
      "2024/06/20 18:48:31 INFO mlflow.utils.autologging_utils: Created MLflow autologging run with ID 'c83a390c5d5b467cabef2d2cff07eee8', which will track hyperparameters, performance metrics, model artifacts, and lineage information for the current xgboost workflow\n"
     ]
    },
    {
     "name": "stdout",
     "output_type": "stream",
     "text": [
      "[0]\tvalidation-rmse:7.41881\n",
      "[1]\tvalidation-rmse:6.68866\n",
      "[2]\tvalidation-rmse:6.55331\n",
      "[3]\tvalidation-rmse:6.51388\n",
      "[4]\tvalidation-rmse:6.51093\n",
      "[5]\tvalidation-rmse:6.49951\n",
      "[6]\tvalidation-rmse:6.48918\n",
      "[7]\tvalidation-rmse:6.48246\n",
      "[8]\tvalidation-rmse:6.47719\n",
      "[9]\tvalidation-rmse:6.46704\n",
      "[10]\tvalidation-rmse:6.46078\n",
      "[11]\tvalidation-rmse:6.45064\n",
      "[12]\tvalidation-rmse:6.44622\n",
      "[13]\tvalidation-rmse:6.44225\n",
      "[14]\tvalidation-rmse:6.43907\n",
      "[15]\tvalidation-rmse:6.43326\n",
      "[16]\tvalidation-rmse:6.43121\n",
      "[17]\tvalidation-rmse:6.42468\n",
      "[18]\tvalidation-rmse:6.42087\n",
      "[19]\tvalidation-rmse:6.41753\n"
     ]
    },
    {
     "name": "stderr",
     "output_type": "stream",
     "text": [
      "2024/06/20 18:48:53 WARNING mlflow.xgboost: Failed to infer model signature: could not sample data to infer model signature: please ensure that autologging is enabled before constructing the dataset.\n",
      "2024/06/20 18:48:53 WARNING mlflow.utils.autologging_utils: MLflow autologging encountered a warning: \"/home/baran/anaconda3/envs/exp-tracking-env/lib/python3.11/site-packages/xgboost/core.py:160: UserWarning: [18:48:53] WARNING: /croot/xgboost-split_1713972711803/work/cpp_src/src/c_api/c_api.cc:1240: Saving into deprecated binary model format, please consider using `json` or `ubj`. Model format will default to JSON in XGBoost 2.2 if not specified.\"\n",
      "2024/06/20 18:48:54 WARNING mlflow.utils.autologging_utils: MLflow autologging encountered a warning: \"/home/baran/anaconda3/envs/exp-tracking-env/lib/python3.11/site-packages/_distutils_hack/__init__.py:11: UserWarning: Distutils was imported before Setuptools, but importing Setuptools also replaces the `distutils` module in `sys.modules`. This may lead to undesirable behaviors or errors. To avoid these issues, avoid using distutils directly, ensure that setuptools is installed in the traditional way (e.g. not an editable install), and/or make sure that setuptools is always imported before distutils.\"\n",
      "2024/06/20 18:48:54 WARNING mlflow.utils.autologging_utils: MLflow autologging encountered a warning: \"/home/baran/anaconda3/envs/exp-tracking-env/lib/python3.11/site-packages/_distutils_hack/__init__.py:26: UserWarning: Setuptools is replacing distutils.\"\n"
     ]
    }
   ],
   "source": [
    "params = {\n",
    "    \"learning_rate\": 0.7067657495012771,\n",
    "    \"max_depth\": 49,\n",
    "    \"min_child_weight\": 1.7041177164039096,\n",
    "    \"reg_alpha\": 0.2802367356526795,\n",
    "    \"reg_lambda\": 0.2024140613950744,\n",
    "    \"seed\": 42,\n",
    "}\n",
    "\n",
    "mlflow.xgboost.autolog()\n",
    "\n",
    "booster = xgb.train(\n",
    "    params=params,\n",
    "    dtrain=train,\n",
    "    num_boost_round=20,\n",
    "    evals=[(valid, \"validation\")],\n",
    "    early_stopping_rounds=5,\n",
    ")"
   ]
  }
 ],
 "metadata": {
  "kernelspec": {
   "display_name": "base",
   "language": "python",
   "name": "python3"
  },
  "language_info": {
   "codemirror_mode": {
    "name": "ipython",
    "version": 3
   },
   "file_extension": ".py",
   "mimetype": "text/x-python",
   "name": "python",
   "nbconvert_exporter": "python",
   "pygments_lexer": "ipython3",
   "version": "3.11.9"
  }
 },
 "nbformat": 4,
 "nbformat_minor": 2
}
